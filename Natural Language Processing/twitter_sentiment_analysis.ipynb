{
  "nbformat": 4,
  "nbformat_minor": 0,
  "metadata": {
    "colab": {
      "provenance": [],
      "collapsed_sections": []
    },
    "kernelspec": {
      "name": "python3",
      "display_name": "Python 3"
    },
    "language_info": {
      "name": "python"
    }
  },
  "cells": [
    {
      "cell_type": "markdown",
      "source": [
        "# Downloading the dataset from Kaggle"
      ],
      "metadata": {
        "id": "AYACWt4IQFHX"
      }
    },
    {
      "cell_type": "code",
      "execution_count": null,
      "metadata": {
        "id": "SnllxxjQrMlg"
      },
      "outputs": [],
      "source": [
        "! pip install -q kaggle\n",
        "\n",
        "from google.colab import files\n",
        "\n",
        "files.upload()"
      ]
    },
    {
      "cell_type": "code",
      "source": [
        "! mkdir ~/.kaggle\n",
        "\n",
        "!cp kaggle.json ~/.kaggle/\n",
        "\n",
        "! chmod 600 ~/.kaggle/kaggle.json\n",
        "\n",
        "! kaggle datasets list"
      ],
      "metadata": {
        "id": "da58_xkow4Qx"
      },
      "execution_count": null,
      "outputs": []
    },
    {
      "cell_type": "code",
      "source": [
        "! kaggle datasets download -d jp797498e/twitter-entity-sentiment-analysis"
      ],
      "metadata": {
        "id": "JazaBMaKr8mN"
      },
      "execution_count": null,
      "outputs": []
    },
    {
      "cell_type": "code",
      "source": [
        "! mkdir input\n",
        "\n",
        "! unzip twitter-entity-sentiment-analysis.zip -d input"
      ],
      "metadata": {
        "id": "6RPPxNLTsBvt"
      },
      "execution_count": null,
      "outputs": []
    },
    {
      "cell_type": "markdown",
      "source": [
        "# Importing dependencies"
      ],
      "metadata": {
        "id": "_32KTGHzQIxf"
      }
    },
    {
      "cell_type": "code",
      "source": [
        "import numpy as np\n",
        "import pandas as pd\n",
        "\n",
        "import matplotlib.pyplot as plt\n",
        "import seaborn as sns\n",
        "\n",
        "from sklearn.model_selection import train_test_split\n",
        "\n",
        "import tensorflow as tf\n",
        "tf.random.set_seed(26)\n",
        "from tensorflow.keras.preprocessing.text import Tokenizer\n",
        "from tensorflow.keras.preprocessing.sequence import pad_sequences\n",
        "\n",
        "from sklearn.metrics import classification_report, confusion_matrix, accuracy_score\n",
        "\n",
        "\n",
        "import itertools \n"
      ],
      "metadata": {
        "id": "B5gr8gsZsMJM"
      },
      "execution_count": 147,
      "outputs": []
    },
    {
      "cell_type": "code",
      "source": [
        "train_df = pd.read_csv('./input/twitter_training.csv')\n",
        "train_df.iloc[:, -1] = train_df.iloc[:, -1].astype(str)"
      ],
      "metadata": {
        "id": "NY5z9WTIsSfO"
      },
      "execution_count": 187,
      "outputs": []
    },
    {
      "cell_type": "code",
      "source": [
        "train_df.tail()"
      ],
      "metadata": {
        "colab": {
          "base_uri": "https://localhost:8080/",
          "height": 206
        },
        "id": "w0ZLIsplsuaq",
        "outputId": "6f0327dd-2d31-4d81-9564-2e2600793c1f"
      },
      "execution_count": 149,
      "outputs": [
        {
          "output_type": "execute_result",
          "data": {
            "text/plain": [
              "       2401 Borderlands  Positive  \\\n",
              "74676  9200      Nvidia  Positive   \n",
              "74677  9200      Nvidia  Positive   \n",
              "74678  9200      Nvidia  Positive   \n",
              "74679  9200      Nvidia  Positive   \n",
              "74680  9200      Nvidia  Positive   \n",
              "\n",
              "      im getting on borderlands and i will murder you all ,  \n",
              "74676  Just realized that the Windows partition of my...     \n",
              "74677  Just realized that my Mac window partition is ...     \n",
              "74678  Just realized the windows partition of my Mac ...     \n",
              "74679  Just realized between the windows partition of...     \n",
              "74680  Just like the windows partition of my Mac is l...     "
            ],
            "text/html": [
              "\n",
              "  <div id=\"df-868d4b35-09c9-46d2-b657-aecd8b09a221\">\n",
              "    <div class=\"colab-df-container\">\n",
              "      <div>\n",
              "<style scoped>\n",
              "    .dataframe tbody tr th:only-of-type {\n",
              "        vertical-align: middle;\n",
              "    }\n",
              "\n",
              "    .dataframe tbody tr th {\n",
              "        vertical-align: top;\n",
              "    }\n",
              "\n",
              "    .dataframe thead th {\n",
              "        text-align: right;\n",
              "    }\n",
              "</style>\n",
              "<table border=\"1\" class=\"dataframe\">\n",
              "  <thead>\n",
              "    <tr style=\"text-align: right;\">\n",
              "      <th></th>\n",
              "      <th>2401</th>\n",
              "      <th>Borderlands</th>\n",
              "      <th>Positive</th>\n",
              "      <th>im getting on borderlands and i will murder you all ,</th>\n",
              "    </tr>\n",
              "  </thead>\n",
              "  <tbody>\n",
              "    <tr>\n",
              "      <th>74676</th>\n",
              "      <td>9200</td>\n",
              "      <td>Nvidia</td>\n",
              "      <td>Positive</td>\n",
              "      <td>Just realized that the Windows partition of my...</td>\n",
              "    </tr>\n",
              "    <tr>\n",
              "      <th>74677</th>\n",
              "      <td>9200</td>\n",
              "      <td>Nvidia</td>\n",
              "      <td>Positive</td>\n",
              "      <td>Just realized that my Mac window partition is ...</td>\n",
              "    </tr>\n",
              "    <tr>\n",
              "      <th>74678</th>\n",
              "      <td>9200</td>\n",
              "      <td>Nvidia</td>\n",
              "      <td>Positive</td>\n",
              "      <td>Just realized the windows partition of my Mac ...</td>\n",
              "    </tr>\n",
              "    <tr>\n",
              "      <th>74679</th>\n",
              "      <td>9200</td>\n",
              "      <td>Nvidia</td>\n",
              "      <td>Positive</td>\n",
              "      <td>Just realized between the windows partition of...</td>\n",
              "    </tr>\n",
              "    <tr>\n",
              "      <th>74680</th>\n",
              "      <td>9200</td>\n",
              "      <td>Nvidia</td>\n",
              "      <td>Positive</td>\n",
              "      <td>Just like the windows partition of my Mac is l...</td>\n",
              "    </tr>\n",
              "  </tbody>\n",
              "</table>\n",
              "</div>\n",
              "      <button class=\"colab-df-convert\" onclick=\"convertToInteractive('df-868d4b35-09c9-46d2-b657-aecd8b09a221')\"\n",
              "              title=\"Convert this dataframe to an interactive table.\"\n",
              "              style=\"display:none;\">\n",
              "        \n",
              "  <svg xmlns=\"http://www.w3.org/2000/svg\" height=\"24px\"viewBox=\"0 0 24 24\"\n",
              "       width=\"24px\">\n",
              "    <path d=\"M0 0h24v24H0V0z\" fill=\"none\"/>\n",
              "    <path d=\"M18.56 5.44l.94 2.06.94-2.06 2.06-.94-2.06-.94-.94-2.06-.94 2.06-2.06.94zm-11 1L8.5 8.5l.94-2.06 2.06-.94-2.06-.94L8.5 2.5l-.94 2.06-2.06.94zm10 10l.94 2.06.94-2.06 2.06-.94-2.06-.94-.94-2.06-.94 2.06-2.06.94z\"/><path d=\"M17.41 7.96l-1.37-1.37c-.4-.4-.92-.59-1.43-.59-.52 0-1.04.2-1.43.59L10.3 9.45l-7.72 7.72c-.78.78-.78 2.05 0 2.83L4 21.41c.39.39.9.59 1.41.59.51 0 1.02-.2 1.41-.59l7.78-7.78 2.81-2.81c.8-.78.8-2.07 0-2.86zM5.41 20L4 18.59l7.72-7.72 1.47 1.35L5.41 20z\"/>\n",
              "  </svg>\n",
              "      </button>\n",
              "      \n",
              "  <style>\n",
              "    .colab-df-container {\n",
              "      display:flex;\n",
              "      flex-wrap:wrap;\n",
              "      gap: 12px;\n",
              "    }\n",
              "\n",
              "    .colab-df-convert {\n",
              "      background-color: #E8F0FE;\n",
              "      border: none;\n",
              "      border-radius: 50%;\n",
              "      cursor: pointer;\n",
              "      display: none;\n",
              "      fill: #1967D2;\n",
              "      height: 32px;\n",
              "      padding: 0 0 0 0;\n",
              "      width: 32px;\n",
              "    }\n",
              "\n",
              "    .colab-df-convert:hover {\n",
              "      background-color: #E2EBFA;\n",
              "      box-shadow: 0px 1px 2px rgba(60, 64, 67, 0.3), 0px 1px 3px 1px rgba(60, 64, 67, 0.15);\n",
              "      fill: #174EA6;\n",
              "    }\n",
              "\n",
              "    [theme=dark] .colab-df-convert {\n",
              "      background-color: #3B4455;\n",
              "      fill: #D2E3FC;\n",
              "    }\n",
              "\n",
              "    [theme=dark] .colab-df-convert:hover {\n",
              "      background-color: #434B5C;\n",
              "      box-shadow: 0px 1px 3px 1px rgba(0, 0, 0, 0.15);\n",
              "      filter: drop-shadow(0px 1px 2px rgba(0, 0, 0, 0.3));\n",
              "      fill: #FFFFFF;\n",
              "    }\n",
              "  </style>\n",
              "\n",
              "      <script>\n",
              "        const buttonEl =\n",
              "          document.querySelector('#df-868d4b35-09c9-46d2-b657-aecd8b09a221 button.colab-df-convert');\n",
              "        buttonEl.style.display =\n",
              "          google.colab.kernel.accessAllowed ? 'block' : 'none';\n",
              "\n",
              "        async function convertToInteractive(key) {\n",
              "          const element = document.querySelector('#df-868d4b35-09c9-46d2-b657-aecd8b09a221');\n",
              "          const dataTable =\n",
              "            await google.colab.kernel.invokeFunction('convertToInteractive',\n",
              "                                                     [key], {});\n",
              "          if (!dataTable) return;\n",
              "\n",
              "          const docLinkHtml = 'Like what you see? Visit the ' +\n",
              "            '<a target=\"_blank\" href=https://colab.research.google.com/notebooks/data_table.ipynb>data table notebook</a>'\n",
              "            + ' to learn more about interactive tables.';\n",
              "          element.innerHTML = '';\n",
              "          dataTable['output_type'] = 'display_data';\n",
              "          await google.colab.output.renderOutput(dataTable, element);\n",
              "          const docLink = document.createElement('div');\n",
              "          docLink.innerHTML = docLinkHtml;\n",
              "          element.appendChild(docLink);\n",
              "        }\n",
              "      </script>\n",
              "    </div>\n",
              "  </div>\n",
              "  "
            ]
          },
          "metadata": {},
          "execution_count": 149
        }
      ]
    },
    {
      "cell_type": "code",
      "source": [
        "train_df['Positive'].unique()"
      ],
      "metadata": {
        "colab": {
          "base_uri": "https://localhost:8080/"
        },
        "id": "xQWMArV7QR3c",
        "outputId": "574bd5cf-7855-4e79-eaa7-71a4f1adb518"
      },
      "execution_count": 174,
      "outputs": [
        {
          "output_type": "execute_result",
          "data": {
            "text/plain": [
              "array(['Positive', 'Neutral', 'Negative', 'Irrelevant'], dtype=object)"
            ]
          },
          "metadata": {},
          "execution_count": 174
        }
      ]
    },
    {
      "cell_type": "code",
      "source": [
        "train_df = train_df[train_df['Positive'] != 'Irrelevant']"
      ],
      "metadata": {
        "id": "6ye-Zw0atGgg"
      },
      "execution_count": 189,
      "outputs": []
    },
    {
      "cell_type": "markdown",
      "source": [
        "# Label Encoding"
      ],
      "metadata": {
        "id": "t9uVTdCmRuvR"
      }
    },
    {
      "cell_type": "code",
      "source": [
        "to_replace = {'Positive' : {'Negative' : 0, 'Neutral' : 0, 'Positive' : 1}}\n",
        "train_df.replace(to_replace, inplace = True)\n",
        "train_df['Positive'].unique()"
      ],
      "metadata": {
        "colab": {
          "base_uri": "https://localhost:8080/"
        },
        "id": "lBxueevuuT6M",
        "outputId": "34040191-d48a-443e-a008-9f1ca5d449cd"
      },
      "execution_count": 190,
      "outputs": [
        {
          "output_type": "execute_result",
          "data": {
            "text/plain": [
              "array([1, 0])"
            ]
          },
          "metadata": {},
          "execution_count": 190
        }
      ]
    },
    {
      "cell_type": "code",
      "source": [
        "sns.countplot(train_df['Positive'])"
      ],
      "metadata": {
        "colab": {
          "base_uri": "https://localhost:8080/",
          "height": 351
        },
        "id": "7Ui-r-0YQbmr",
        "outputId": "5b8c886e-3d1e-45d6-da1a-a17e87da128c"
      },
      "execution_count": 191,
      "outputs": [
        {
          "output_type": "stream",
          "name": "stderr",
          "text": [
            "/usr/local/lib/python3.7/dist-packages/seaborn/_decorators.py:43: FutureWarning: Pass the following variable as a keyword arg: x. From version 0.12, the only valid positional argument will be `data`, and passing other arguments without an explicit keyword will result in an error or misinterpretation.\n",
            "  FutureWarning\n"
          ]
        },
        {
          "output_type": "execute_result",
          "data": {
            "text/plain": [
              "<matplotlib.axes._subplots.AxesSubplot at 0x7f813aa18850>"
            ]
          },
          "metadata": {},
          "execution_count": 191
        },
        {
          "output_type": "display_data",
          "data": {
            "text/plain": [
              "<Figure size 432x288 with 1 Axes>"
            ],
            "image/png": "[encoded data removed]"
          },
          "metadata": {
            "needs_background": "light"
          }
        }
      ]
    },
    {
      "cell_type": "markdown",
      "source": [
        "There are alot more zeroes in the dataset after replacement, because positive sentiments should be focused on more."
      ],
      "metadata": {
        "id": "PRU9Jh3-Qo4R"
      }
    },
    {
      "cell_type": "code",
      "source": [
        "sentences = train_df.iloc[:, -1]\n",
        "labels = train_df['Positive']"
      ],
      "metadata": {
        "id": "Py29Vz91s9dF"
      },
      "execution_count": 152,
      "outputs": []
    },
    {
      "cell_type": "markdown",
      "source": [
        "Separate features from labels"
      ],
      "metadata": {
        "id": "rx37Ul8oRRc3"
      }
    },
    {
      "cell_type": "markdown",
      "source": [
        "# Split train and test"
      ],
      "metadata": {
        "id": "aLcqQctKRWgR"
      }
    },
    {
      "cell_type": "code",
      "source": [
        "X_train, X_test, y_train, y_test = train_test_split(sentences, labels, test_size = 0.30, random_state = 26)"
      ],
      "metadata": {
        "id": "7YAsiFXguqSO"
      },
      "execution_count": 154,
      "outputs": []
    },
    {
      "cell_type": "markdown",
      "source": [
        "# Fitting the Tokenizer"
      ],
      "metadata": {
        "id": "tyVvkXdYRefQ"
      }
    },
    {
      "cell_type": "code",
      "source": [
        "num_words = 10000\n",
        "oov_token = '<OOV>'\n",
        "tokenizer = Tokenizer(num_words = num_words, oov_token = oov_token)\n",
        "\n",
        "tokenizer.fit_on_texts(X_train)"
      ],
      "metadata": {
        "id": "_Q8ZfcCAv7TM"
      },
      "execution_count": 155,
      "outputs": []
    },
    {
      "cell_type": "markdown",
      "source": [
        "# Creating padded sequences using the fitted tokenizer"
      ],
      "metadata": {
        "id": "oOfnaek3Rg0z"
      }
    },
    {
      "cell_type": "code",
      "source": [
        "training_sequences = tokenizer.texts_to_sequences(X_train)\n",
        "training_padded = np.array(pad_sequences(training_sequences, maxlen = 100, padding = 'post', truncating = 'post'))\n",
        "\n",
        "testing_sequences = tokenizer.texts_to_sequences(X_test)\n",
        "testing_padded = np.array(pad_sequences(testing_sequences, maxlen = 100, padding = 'post', truncating = 'post'))"
      ],
      "metadata": {
        "id": "b0Asv8rfySRM"
      },
      "execution_count": 156,
      "outputs": []
    },
    {
      "cell_type": "markdown",
      "source": [
        "# Creating the model (sequentially)"
      ],
      "metadata": {
        "id": "TCs98ShWR4E0"
      }
    },
    {
      "cell_type": "code",
      "source": [
        "model = tf.keras.Sequential([\n",
        "    tf.keras.layers.Embedding(num_words, 16, input_length = 100),\n",
        "    tf.keras.layers.GlobalAveragePooling1D(),\n",
        "    tf.keras.layers.Dense(24, activation = 'relu'),\n",
        "    tf.keras.layers.Dense(1, activation = 'sigmoid')\n",
        "])"
      ],
      "metadata": {
        "id": "dHc8ndCeEbEu"
      },
      "execution_count": 157,
      "outputs": []
    },
    {
      "cell_type": "markdown",
      "source": [
        "# Model compilation"
      ],
      "metadata": {
        "id": "zt9ZoaFbSBtQ"
      }
    },
    {
      "cell_type": "code",
      "source": [
        "model.compile(loss = 'binary_crossentropy', optimizer = 'adam', metrics = ['accuracy'])"
      ],
      "metadata": {
        "id": "G0IcbXznSBGj"
      },
      "execution_count": 192,
      "outputs": []
    },
    {
      "cell_type": "code",
      "source": [
        "model.summary()"
      ],
      "metadata": {
        "colab": {
          "base_uri": "https://localhost:8080/"
        },
        "id": "ArLgPGfOFhUu",
        "outputId": "60ec0507-60b8-4942-f581-eedf84de9918"
      },
      "execution_count": 158,
      "outputs": [
        {
          "output_type": "stream",
          "name": "stdout",
          "text": [
            "Model: \"sequential_3\"\n",
            "_________________________________________________________________\n",
            " Layer (type)                Output Shape              Param #   \n",
            "=================================================================\n",
            " embedding_3 (Embedding)     (None, 100, 16)           160000    \n",
            "                                                                 \n",
            " global_average_pooling1d_3   (None, 16)               0         \n",
            " (GlobalAveragePooling1D)                                        \n",
            "                                                                 \n",
            " dense_6 (Dense)             (None, 24)                408       \n",
            "                                                                 \n",
            " dense_7 (Dense)             (None, 1)                 25        \n",
            "                                                                 \n",
            "=================================================================\n",
            "Total params: 160,433\n",
            "Trainable params: 160,433\n",
            "Non-trainable params: 0\n",
            "_________________________________________________________________\n"
          ]
        }
      ]
    },
    {
      "cell_type": "markdown",
      "source": [
        "# Creating the callback"
      ],
      "metadata": {
        "id": "hkr-X0LSSF6c"
      }
    },
    {
      "cell_type": "code",
      "source": [
        "acc_threshold = 0.94\n",
        "\n",
        "class CustomCallback(tf.keras.callbacks.Callback):\n",
        "  def on_epoch_end(self, epoch, logs = None):\n",
        "    if (logs['accuracy'] is not None and logs['accuracy'] >= acc_threshold):\n",
        "      print('\\nREACHED ACCURACY THRESHOLD, TRAINING WILL BE STOPPED...')\n",
        "      self.model.stop_training = True\n",
        "\n",
        "callbacks = CustomCallback()"
      ],
      "metadata": {
        "id": "YTy37WmuzKRh"
      },
      "execution_count": 159,
      "outputs": []
    },
    {
      "cell_type": "markdown",
      "source": [
        "# Model training"
      ],
      "metadata": {
        "id": "BpTwnOSySIVX"
      }
    },
    {
      "cell_type": "code",
      "source": [
        "history = model.fit(training_padded, y_train, epochs = 30, validation_data = (testing_padded, y_test), verbose = 1, callbacks = [callbacks])"
      ],
      "metadata": {
        "colab": {
          "base_uri": "https://localhost:8080/"
        },
        "id": "SlLCBQl_Fjx4",
        "outputId": "6f5f01bd-e50c-4cfc-ea76-524e6168ca11"
      },
      "execution_count": 160,
      "outputs": [
        {
          "output_type": "stream",
          "name": "stdout",
          "text": [
            "Epoch 1/30\n",
            "1350/1350 [==============================] - 8s 5ms/step - loss: 0.5602 - accuracy: 0.7099 - val_loss: 0.4460 - val_accuracy: 0.7993\n",
            "Epoch 2/30\n",
            "1350/1350 [==============================] - 7s 5ms/step - loss: 0.3748 - accuracy: 0.8358 - val_loss: 0.3867 - val_accuracy: 0.8265\n",
            "Epoch 3/30\n",
            "1350/1350 [==============================] - 6s 4ms/step - loss: 0.3055 - accuracy: 0.8729 - val_loss: 0.3442 - val_accuracy: 0.8559\n",
            "Epoch 4/30\n",
            "1350/1350 [==============================] - 7s 5ms/step - loss: 0.2651 - accuracy: 0.8900 - val_loss: 0.3381 - val_accuracy: 0.8590\n",
            "Epoch 5/30\n",
            "1350/1350 [==============================] - 7s 5ms/step - loss: 0.2370 - accuracy: 0.9026 - val_loss: 0.3391 - val_accuracy: 0.8619\n",
            "Epoch 6/30\n",
            "1350/1350 [==============================] - 6s 5ms/step - loss: 0.2185 - accuracy: 0.9089 - val_loss: 0.3201 - val_accuracy: 0.8638\n",
            "Epoch 7/30\n",
            "1350/1350 [==============================] - 7s 5ms/step - loss: 0.2053 - accuracy: 0.9142 - val_loss: 0.3206 - val_accuracy: 0.8741\n",
            "Epoch 8/30\n",
            "1350/1350 [==============================] - 7s 5ms/step - loss: 0.1958 - accuracy: 0.9184 - val_loss: 0.3102 - val_accuracy: 0.8793\n",
            "Epoch 9/30\n",
            "1350/1350 [==============================] - 7s 5ms/step - loss: 0.1862 - accuracy: 0.9226 - val_loss: 0.3153 - val_accuracy: 0.8789\n",
            "Epoch 10/30\n",
            "1350/1350 [==============================] - 7s 5ms/step - loss: 0.1793 - accuracy: 0.9240 - val_loss: 0.3114 - val_accuracy: 0.8821\n",
            "Epoch 11/30\n",
            "1350/1350 [==============================] - 7s 5ms/step - loss: 0.1747 - accuracy: 0.9278 - val_loss: 0.3119 - val_accuracy: 0.8831\n",
            "Epoch 12/30\n",
            "1350/1350 [==============================] - 6s 5ms/step - loss: 0.1700 - accuracy: 0.9277 - val_loss: 0.3190 - val_accuracy: 0.8727\n",
            "Epoch 13/30\n",
            "1350/1350 [==============================] - 6s 5ms/step - loss: 0.1651 - accuracy: 0.9312 - val_loss: 0.3179 - val_accuracy: 0.8830\n",
            "Epoch 14/30\n",
            "1350/1350 [==============================] - 6s 4ms/step - loss: 0.1620 - accuracy: 0.9316 - val_loss: 0.3226 - val_accuracy: 0.8835\n",
            "Epoch 15/30\n",
            "1350/1350 [==============================] - 7s 5ms/step - loss: 0.1586 - accuracy: 0.9339 - val_loss: 0.3287 - val_accuracy: 0.8835\n",
            "Epoch 16/30\n",
            "1350/1350 [==============================] - 6s 4ms/step - loss: 0.1553 - accuracy: 0.9347 - val_loss: 0.3412 - val_accuracy: 0.8844\n",
            "Epoch 17/30\n",
            "1350/1350 [==============================] - 7s 5ms/step - loss: 0.1522 - accuracy: 0.9360 - val_loss: 0.3326 - val_accuracy: 0.8850\n",
            "Epoch 18/30\n",
            "1350/1350 [==============================] - 7s 5ms/step - loss: 0.1515 - accuracy: 0.9351 - val_loss: 0.3418 - val_accuracy: 0.8847\n",
            "Epoch 19/30\n",
            "1350/1350 [==============================] - 7s 5ms/step - loss: 0.1480 - accuracy: 0.9370 - val_loss: 0.3658 - val_accuracy: 0.8820\n",
            "Epoch 20/30\n",
            "1350/1350 [==============================] - 7s 5ms/step - loss: 0.1453 - accuracy: 0.9394 - val_loss: 0.3595 - val_accuracy: 0.8676\n",
            "Epoch 21/30\n",
            "1350/1350 [==============================] - 7s 5ms/step - loss: 0.1445 - accuracy: 0.9395 - val_loss: 0.3673 - val_accuracy: 0.8819\n",
            "Epoch 22/30\n",
            "1350/1350 [==============================] - 7s 5ms/step - loss: 0.1430 - accuracy: 0.9398 - val_loss: 0.3532 - val_accuracy: 0.8852\n",
            "Epoch 23/30\n",
            "1346/1350 [============================>.] - ETA: 0s - loss: 0.1402 - accuracy: 0.9408\n",
            "REACHED ACCURACY THRESHOLD, TRAINING WILL BE STOPPED...\n",
            "1350/1350 [==============================] - 7s 5ms/step - loss: 0.1403 - accuracy: 0.9408 - val_loss: 0.3591 - val_accuracy: 0.8821\n"
          ]
        }
      ]
    },
    {
      "cell_type": "markdown",
      "source": [
        "# Model evaluation on validation set"
      ],
      "metadata": {
        "id": "onNacsDKSNxS"
      }
    },
    {
      "cell_type": "code",
      "source": [
        "test_df = pd.read_csv('./input/twitter_validation.csv')\n",
        "test_df.iloc[:, -1] = test_df.iloc[:, -1].astype(str)\n",
        "\n",
        "test_df = test_df[test_df['Irrelevant'] != 'Irrelevant']\n",
        "test_to_replace = {'Irrelevant' : {'Negative' : 0, 'Neutral' : 0, 'Positive' : 1}}\n",
        "test_df.replace(test_to_replace, inplace = True)\n",
        "\n",
        "test_sentences = test_df.iloc[:, -1].tolist()\n",
        "\n",
        "test_labels = np.array(test_df['Irrelevant'].tolist(), dtype = np.float32)\n",
        "\n",
        "\n",
        "test_sequences = tokenizer.texts_to_sequences(test_sentences)\n",
        "test_padded = pad_sequences(test_sequences, maxlen = 100, padding = 'post', truncating = 'post')\n",
        "test_pred = model.predict(test_padded)\n",
        "\n",
        "results = model.evaluate(test_padded, test_labels, batch_size = 128)"
      ],
      "metadata": {
        "colab": {
          "base_uri": "https://localhost:8080/"
        },
        "id": "NqFYKN_wUfMi",
        "outputId": "00ceb660-e667-4220-e72b-4fe70d1f1ea0"
      },
      "execution_count": 161,
      "outputs": [
        {
          "output_type": "stream",
          "name": "stdout",
          "text": [
            "7/7 [==============================] - 0s 4ms/step - loss: 0.1522 - accuracy: 0.9626\n"
          ]
        }
      ]
    },
    {
      "cell_type": "code",
      "source": [
        "print(f'ACCURACY ON TEST DATASET: {int(results[1] * 100)}%')"
      ],
      "metadata": {
        "colab": {
          "base_uri": "https://localhost:8080/"
        },
        "id": "pODMamYYcA0x",
        "outputId": "f740ba3f-f73c-49dd-842a-7c24743f40cf"
      },
      "execution_count": 162,
      "outputs": [
        {
          "output_type": "stream",
          "name": "stdout",
          "text": [
            "ACCURACY ON TEST DATASET: 96%\n"
          ]
        }
      ]
    },
    {
      "cell_type": "markdown",
      "source": [
        "# Playground"
      ],
      "metadata": {
        "id": "6Qu0jMfESREd"
      }
    },
    {
      "cell_type": "code",
      "source": [
        "def test_sentiment(sentence):\n",
        "  z = []\n",
        "\n",
        "  z.append(sentence)\n",
        "  sentence = z\n",
        "  func_seq = tokenizer.texts_to_sequences(sentence)\n",
        "  func_padded = pad_sequences(func_seq, maxlen = 100, padding = 'post', truncating = 'post')\n",
        "  print(model.predict(func_padded))\n",
        "\n",
        "sent_input = input('Enter sentence for sentiment analysis: ')\n",
        "test_sentiment(sent_input)"
      ],
      "metadata": {
        "colab": {
          "base_uri": "https://localhost:8080/"
        },
        "id": "FXZ6Ufv4d-4H",
        "outputId": "5ab84ff1-bb3c-4c0b-b62c-361c1ac1193d"
      },
      "execution_count": 165,
      "outputs": [
        {
          "output_type": "stream",
          "name": "stdout",
          "text": [
            "Enter sentence for sentiment analysis: i love you\n",
            "[[0.9610832]]\n"
          ]
        }
      ]
    },
    {
      "cell_type": "code",
      "source": [
        "sent_input = input('Enter sentence for sentiment analysis: ')\n",
        "test_sentiment(sent_input)"
      ],
      "metadata": {
        "colab": {
          "base_uri": "https://localhost:8080/"
        },
        "id": "pfoA_9q-4q9p",
        "outputId": "afda3de1-e59a-4531-e9e9-63c638fd1b89"
      },
      "execution_count": 166,
      "outputs": [
        {
          "output_type": "stream",
          "name": "stdout",
          "text": [
            "Enter sentence for sentiment analysis: i hate you\n",
            "[[0.02350268]]\n"
          ]
        }
      ]
    },
    {
      "cell_type": "markdown",
      "source": [
        "# Visualizing model evaluation"
      ],
      "metadata": {
        "id": "v0meJ102SU1z"
      }
    },
    {
      "cell_type": "code",
      "source": [
        "def plot_confusion_matrix(cm, classes,\n",
        "                          title='Confusion matrix',\n",
        "                          cmap=plt.cm.Reds):\n",
        "  \n",
        "    cm = cm / cm.sum(axis=1)[:, np.newaxis]\n",
        "\n",
        "    plt.imshow(cm, interpolation='nearest', cmap=cmap)\n",
        "    plt.title(title, fontsize=20)\n",
        "    plt.colorbar()\n",
        "    tick_marks = np.arange(len(classes))\n",
        "    plt.xticks(tick_marks, classes, rotation=90, fontsize=14)\n",
        "    plt.yticks(tick_marks, classes, fontsize=14)\n",
        "\n",
        "    fmt = '.2f'\n",
        "    thresh = cm.max() / 2.\n",
        "    for i, j in itertools.product(range(cm.shape[0]), range(cm.shape[1])):\n",
        "        plt.text(j, i, format(cm[i, j], fmt),\n",
        "                 horizontalalignment=\"center\",\n",
        "                 color=\"white\" if cm[i, j] > thresh else \"black\")\n",
        "\n",
        "    plt.ylabel('True label', fontsize=15)\n",
        "    plt.xlabel('Predicted label', fontsize=15)\n",
        "\n",
        "  "
      ],
      "metadata": {
        "id": "9GtkmqmE47sz"
      },
      "execution_count": 167,
      "outputs": []
    },
    {
      "cell_type": "code",
      "source": [
        "conf_y_true = test_labels\n",
        "conf_y_pred = test_pred.round()\n",
        "\n",
        "cmf_matrix = confusion_matrix(conf_y_true, conf_y_pred)\n",
        "\n",
        "plt.figure(figsize = (8, 8))\n",
        "plot_confusion_matrix(cmf_matrix, classes = y_train.unique(), title = \"Confusion Matrix\")"
      ],
      "metadata": {
        "colab": {
          "base_uri": "https://localhost:8080/",
          "height": 466
        },
        "id": "5WuhtIzv59d1",
        "outputId": "504a2416-827e-465b-ba5f-e9de1bd21c21"
      },
      "execution_count": 168,
      "outputs": [
        {
          "output_type": "display_data",
          "data": {
            "text/plain": [
              "<Figure size 576x576 with 2 Axes>"
            ],
            "image/png": "[encoded data removed]"
          },
          "metadata": {
            "needs_background": "light"
          }
        }
      ]
    },
    {
      "cell_type": "code",
      "source": [
        "print(classification_report(conf_y_true, conf_y_pred))"
      ],
      "metadata": {
        "colab": {
          "base_uri": "https://localhost:8080/"
        },
        "id": "Ov9SvtkQ9TxQ",
        "outputId": "d4bf5e58-eabd-4872-e0a8-c0450c751869"
      },
      "execution_count": 169,
      "outputs": [
        {
          "output_type": "stream",
          "name": "stdout",
          "text": [
            "              precision    recall  f1-score   support\n",
            "\n",
            "         0.0       0.97      0.97      0.97       551\n",
            "         1.0       0.95      0.94      0.94       277\n",
            "\n",
            "    accuracy                           0.96       828\n",
            "   macro avg       0.96      0.96      0.96       828\n",
            "weighted avg       0.96      0.96      0.96       828\n",
            "\n"
          ]
        }
      ]
    },
    {
      "cell_type": "code",
      "source": [
        "accuracy_score(conf_y_true, conf_y_pred)"
      ],
      "metadata": {
        "colab": {
          "base_uri": "https://localhost:8080/"
        },
        "id": "Tefn6CDw9ktn",
        "outputId": "e592fe38-8c8d-4613-c6e6-9f5940fea0bd"
      },
      "execution_count": 170,
      "outputs": [
        {
          "output_type": "execute_result",
          "data": {
            "text/plain": [
              "0.9625603864734299"
            ]
          },
          "metadata": {},
          "execution_count": 170
        }
      ]
    },
    {
      "cell_type": "markdown",
      "source": [
        "# Saving the model"
      ],
      "metadata": {
        "id": "rZMduNReSdjI"
      }
    },
    {
      "cell_type": "code",
      "source": [
        "model.save('model.h5')"
      ],
      "metadata": {
        "id": "Sb4lAw8C-XqR"
      },
      "execution_count": 171,
      "outputs": []
    }
  ]
}