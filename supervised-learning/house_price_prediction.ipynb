{
  "nbformat": 4,
  "nbformat_minor": 0,
  "metadata": {
    "colab": {
      "provenance": [],
      "collapsed_sections": []
    },
    "kernelspec": {
      "name": "python3",
      "display_name": "Python 3"
    },
    "language_info": {
      "name": "python"
    }
  },
  "cells": [
    {
      "cell_type": "markdown",
      "source": [
        "# Installing the Dataset from Kaggle"
      ],
      "metadata": {
        "id": "Re_TVjCoVPEM"
      }
    },
    {
      "cell_type": "code",
      "source": [
        "! pip install -q kaggle\n",
        "\n",
        "from google.colab import files\n",
        "\n",
        "files.upload()\n"
      ],
      "metadata": {
        "id": "NfD1P0vN2AB8"
      },
      "execution_count": null,
      "outputs": []
    },
    {
      "cell_type": "code",
      "source": [
        "! mkdir ~/.kaggle\n",
        "\n",
        "!cp kaggle.json ~/.kaggle/\n",
        "\n",
        "! chmod 600 ~/.kaggle/kaggle.json\n",
        "\n",
        "! kaggle datasets list"
      ],
      "metadata": {
        "id": "BX7kytb32fP9"
      },
      "execution_count": null,
      "outputs": []
    },
    {
      "cell_type": "code",
      "source": [
        "! kaggle competitions download -c house-prices-advanced-regression-techniques"
      ],
      "metadata": {
        "id": "pPN0BXgP2wzN"
      },
      "execution_count": null,
      "outputs": []
    },
    {
      "cell_type": "code",
      "source": [
        "! mkdir input\n",
        "! unzip house-prices-advanced-regression-techniques.zip -d input"
      ],
      "metadata": {
        "id": "fs0Vu8Jr2zgV"
      },
      "execution_count": null,
      "outputs": []
    },
    {
      "cell_type": "markdown",
      "source": [
        "# Import Dependencies"
      ],
      "metadata": {
        "id": "Mzm3g14CVFSL"
      }
    },
    {
      "cell_type": "code",
      "execution_count": 241,
      "metadata": {
        "id": "9FjmOCUv11Pi"
      },
      "outputs": [],
      "source": [
        "import numpy as np\n",
        "import pandas as pd\n",
        "\n",
        "import matplotlib.pyplot as plt\n",
        "import seaborn as sns\n",
        "\n",
        "from sklearn.preprocessing import LabelEncoder\n",
        "from sklearn.preprocessing import MinMaxScaler\n",
        "\n",
        "from sklearn.model_selection import train_test_split\n",
        "\n",
        "from xgboost import XGBRegressor"
      ]
    },
    {
      "cell_type": "code",
      "source": [
        "df = pd.read_csv('./input/train.csv')"
      ],
      "metadata": {
        "id": "H-iX1wyp5J7d"
      },
      "execution_count": 242,
      "outputs": []
    },
    {
      "cell_type": "markdown",
      "source": [
        "# Initial Inspection"
      ],
      "metadata": {
        "id": "puZgTNKe4-nB"
      }
    },
    {
      "cell_type": "code",
      "source": [
        "df.head()"
      ],
      "metadata": {
        "id": "K06se6cj75uL",
        "colab": {
          "base_uri": "https://localhost:8080/",
          "height": 236
        },
        "outputId": "4e30d8bd-9beb-4758-9fe0-d30c469af838"
      },
      "execution_count": 243,
      "outputs": [
        {
          "output_type": "execute_result",
          "data": {
            "text/plain": [
              "   Id  MSSubClass MSZoning  LotFrontage  LotArea Street Alley LotShape  \\\n",
              "0   1          60       RL        65.00     8450   Pave   NaN      Reg   \n",
              "1   2          20       RL        80.00     9600   Pave   NaN      Reg   \n",
              "2   3          60       RL        68.00    11250   Pave   NaN      IR1   \n",
              "3   4          70       RL        60.00     9550   Pave   NaN      IR1   \n",
              "4   5          60       RL        84.00    14260   Pave   NaN      IR1   \n",
              "\n",
              "  LandContour Utilities  ... PoolArea PoolQC Fence MiscFeature MiscVal MoSold  \\\n",
              "0         Lvl    AllPub  ...        0    NaN   NaN         NaN       0      2   \n",
              "1         Lvl    AllPub  ...        0    NaN   NaN         NaN       0      5   \n",
              "2         Lvl    AllPub  ...        0    NaN   NaN         NaN       0      9   \n",
              "3         Lvl    AllPub  ...        0    NaN   NaN         NaN       0      2   \n",
              "4         Lvl    AllPub  ...        0    NaN   NaN         NaN       0     12   \n",
              "\n",
              "  YrSold  SaleType  SaleCondition  SalePrice  \n",
              "0   2008        WD         Normal     208500  \n",
              "1   2007        WD         Normal     181500  \n",
              "2   2008        WD         Normal     223500  \n",
              "3   2006        WD        Abnorml     140000  \n",
              "4   2008        WD         Normal     250000  \n",
              "\n",
              "[5 rows x 81 columns]"
            ],
            "text/html": [
              "\n",
              "  <div id=\"df-1030a450-0425-480c-9ccb-4d41aeb29f9c\">\n",
              "    <div class=\"colab-df-container\">\n",
              "      <div>\n",
              "<style scoped>\n",
              "    .dataframe tbody tr th:only-of-type {\n",
              "        vertical-align: middle;\n",
              "    }\n",
              "\n",
              "    .dataframe tbody tr th {\n",
              "        vertical-align: top;\n",
              "    }\n",
              "\n",
              "    .dataframe thead th {\n",
              "        text-align: right;\n",
              "    }\n",
              "</style>\n",
              "<table border=\"1\" class=\"dataframe\">\n",
              "  <thead>\n",
              "    <tr style=\"text-align: right;\">\n",
              "      <th></th>\n",
              "      <th>Id</th>\n",
              "      <th>MSSubClass</th>\n",
              "      <th>MSZoning</th>\n",
              "      <th>LotFrontage</th>\n",
              "      <th>LotArea</th>\n",
              "      <th>Street</th>\n",
              "      <th>Alley</th>\n",
              "      <th>LotShape</th>\n",
              "      <th>LandContour</th>\n",
              "      <th>Utilities</th>\n",
              "      <th>...</th>\n",
              "      <th>PoolArea</th>\n",
              "      <th>PoolQC</th>\n",
              "      <th>Fence</th>\n",
              "      <th>MiscFeature</th>\n",
              "      <th>MiscVal</th>\n",
              "      <th>MoSold</th>\n",
              "      <th>YrSold</th>\n",
              "      <th>SaleType</th>\n",
              "      <th>SaleCondition</th>\n",
              "      <th>SalePrice</th>\n",
              "    </tr>\n",
              "  </thead>\n",
              "  <tbody>\n",
              "    <tr>\n",
              "      <th>0</th>\n",
              "      <td>1</td>\n",
              "      <td>60</td>\n",
              "      <td>RL</td>\n",
              "      <td>65.00</td>\n",
              "      <td>8450</td>\n",
              "      <td>Pave</td>\n",
              "      <td>NaN</td>\n",
              "      <td>Reg</td>\n",
              "      <td>Lvl</td>\n",
              "      <td>AllPub</td>\n",
              "      <td>...</td>\n",
              "      <td>0</td>\n",
              "      <td>NaN</td>\n",
              "      <td>NaN</td>\n",
              "      <td>NaN</td>\n",
              "      <td>0</td>\n",
              "      <td>2</td>\n",
              "      <td>2008</td>\n",
              "      <td>WD</td>\n",
              "      <td>Normal</td>\n",
              "      <td>208500</td>\n",
              "    </tr>\n",
              "    <tr>\n",
              "      <th>1</th>\n",
              "      <td>2</td>\n",
              "      <td>20</td>\n",
              "      <td>RL</td>\n",
              "      <td>80.00</td>\n",
              "      <td>9600</td>\n",
              "      <td>Pave</td>\n",
              "      <td>NaN</td>\n",
              "      <td>Reg</td>\n",
              "      <td>Lvl</td>\n",
              "      <td>AllPub</td>\n",
              "      <td>...</td>\n",
              "      <td>0</td>\n",
              "      <td>NaN</td>\n",
              "      <td>NaN</td>\n",
              "      <td>NaN</td>\n",
              "      <td>0</td>\n",
              "      <td>5</td>\n",
              "      <td>2007</td>\n",
              "      <td>WD</td>\n",
              "      <td>Normal</td>\n",
              "      <td>181500</td>\n",
              "    </tr>\n",
              "    <tr>\n",
              "      <th>2</th>\n",
              "      <td>3</td>\n",
              "      <td>60</td>\n",
              "      <td>RL</td>\n",
              "      <td>68.00</td>\n",
              "      <td>11250</td>\n",
              "      <td>Pave</td>\n",
              "      <td>NaN</td>\n",
              "      <td>IR1</td>\n",
              "      <td>Lvl</td>\n",
              "      <td>AllPub</td>\n",
              "      <td>...</td>\n",
              "      <td>0</td>\n",
              "      <td>NaN</td>\n",
              "      <td>NaN</td>\n",
              "      <td>NaN</td>\n",
              "      <td>0</td>\n",
              "      <td>9</td>\n",
              "      <td>2008</td>\n",
              "      <td>WD</td>\n",
              "      <td>Normal</td>\n",
              "      <td>223500</td>\n",
              "    </tr>\n",
              "    <tr>\n",
              "      <th>3</th>\n",
              "      <td>4</td>\n",
              "      <td>70</td>\n",
              "      <td>RL</td>\n",
              "      <td>60.00</td>\n",
              "      <td>9550</td>\n",
              "      <td>Pave</td>\n",
              "      <td>NaN</td>\n",
              "      <td>IR1</td>\n",
              "      <td>Lvl</td>\n",
              "      <td>AllPub</td>\n",
              "      <td>...</td>\n",
              "      <td>0</td>\n",
              "      <td>NaN</td>\n",
              "      <td>NaN</td>\n",
              "      <td>NaN</td>\n",
              "      <td>0</td>\n",
              "      <td>2</td>\n",
              "      <td>2006</td>\n",
              "      <td>WD</td>\n",
              "      <td>Abnorml</td>\n",
              "      <td>140000</td>\n",
              "    </tr>\n",
              "    <tr>\n",
              "      <th>4</th>\n",
              "      <td>5</td>\n",
              "      <td>60</td>\n",
              "      <td>RL</td>\n",
              "      <td>84.00</td>\n",
              "      <td>14260</td>\n",
              "      <td>Pave</td>\n",
              "      <td>NaN</td>\n",
              "      <td>IR1</td>\n",
              "      <td>Lvl</td>\n",
              "      <td>AllPub</td>\n",
              "      <td>...</td>\n",
              "      <td>0</td>\n",
              "      <td>NaN</td>\n",
              "      <td>NaN</td>\n",
              "      <td>NaN</td>\n",
              "      <td>0</td>\n",
              "      <td>12</td>\n",
              "      <td>2008</td>\n",
              "      <td>WD</td>\n",
              "      <td>Normal</td>\n",
              "      <td>250000</td>\n",
              "    </tr>\n",
              "  </tbody>\n",
              "</table>\n",
              "<p>5 rows × 81 columns</p>\n",
              "</div>\n",
              "      <button class=\"colab-df-convert\" onclick=\"convertToInteractive('df-1030a450-0425-480c-9ccb-4d41aeb29f9c')\"\n",
              "              title=\"Convert this dataframe to an interactive table.\"\n",
              "              style=\"display:none;\">\n",
              "        \n",
              "  <svg xmlns=\"http://www.w3.org/2000/svg\" height=\"24px\"viewBox=\"0 0 24 24\"\n",
              "       width=\"24px\">\n",
              "    <path d=\"M0 0h24v24H0V0z\" fill=\"none\"/>\n",
              "    <path d=\"M18.56 5.44l.94 2.06.94-2.06 2.06-.94-2.06-.94-.94-2.06-.94 2.06-2.06.94zm-11 1L8.5 8.5l.94-2.06 2.06-.94-2.06-.94L8.5 2.5l-.94 2.06-2.06.94zm10 10l.94 2.06.94-2.06 2.06-.94-2.06-.94-.94-2.06-.94 2.06-2.06.94z\"/><path d=\"M17.41 7.96l-1.37-1.37c-.4-.4-.92-.59-1.43-.59-.52 0-1.04.2-1.43.59L10.3 9.45l-7.72 7.72c-.78.78-.78 2.05 0 2.83L4 21.41c.39.39.9.59 1.41.59.51 0 1.02-.2 1.41-.59l7.78-7.78 2.81-2.81c.8-.78.8-2.07 0-2.86zM5.41 20L4 18.59l7.72-7.72 1.47 1.35L5.41 20z\"/>\n",
              "  </svg>\n",
              "      </button>\n",
              "      \n",
              "  <style>\n",
              "    .colab-df-container {\n",
              "      display:flex;\n",
              "      flex-wrap:wrap;\n",
              "      gap: 12px;\n",
              "    }\n",
              "\n",
              "    .colab-df-convert {\n",
              "      background-color: #E8F0FE;\n",
              "      border: none;\n",
              "      border-radius: 50%;\n",
              "      cursor: pointer;\n",
              "      display: none;\n",
              "      fill: #1967D2;\n",
              "      height: 32px;\n",
              "      padding: 0 0 0 0;\n",
              "      width: 32px;\n",
              "    }\n",
              "\n",
              "    .colab-df-convert:hover {\n",
              "      background-color: #E2EBFA;\n",
              "      box-shadow: 0px 1px 2px rgba(60, 64, 67, 0.3), 0px 1px 3px 1px rgba(60, 64, 67, 0.15);\n",
              "      fill: #174EA6;\n",
              "    }\n",
              "\n",
              "    [theme=dark] .colab-df-convert {\n",
              "      background-color: #3B4455;\n",
              "      fill: #D2E3FC;\n",
              "    }\n",
              "\n",
              "    [theme=dark] .colab-df-convert:hover {\n",
              "      background-color: #434B5C;\n",
              "      box-shadow: 0px 1px 3px 1px rgba(0, 0, 0, 0.15);\n",
              "      filter: drop-shadow(0px 1px 2px rgba(0, 0, 0, 0.3));\n",
              "      fill: #FFFFFF;\n",
              "    }\n",
              "  </style>\n",
              "\n",
              "      <script>\n",
              "        const buttonEl =\n",
              "          document.querySelector('#df-1030a450-0425-480c-9ccb-4d41aeb29f9c button.colab-df-convert');\n",
              "        buttonEl.style.display =\n",
              "          google.colab.kernel.accessAllowed ? 'block' : 'none';\n",
              "\n",
              "        async function convertToInteractive(key) {\n",
              "          const element = document.querySelector('#df-1030a450-0425-480c-9ccb-4d41aeb29f9c');\n",
              "          const dataTable =\n",
              "            await google.colab.kernel.invokeFunction('convertToInteractive',\n",
              "                                                     [key], {});\n",
              "          if (!dataTable) return;\n",
              "\n",
              "          const docLinkHtml = 'Like what you see? Visit the ' +\n",
              "            '<a target=\"_blank\" href=https://colab.research.google.com/notebooks/data_table.ipynb>data table notebook</a>'\n",
              "            + ' to learn more about interactive tables.';\n",
              "          element.innerHTML = '';\n",
              "          dataTable['output_type'] = 'display_data';\n",
              "          await google.colab.output.renderOutput(dataTable, element);\n",
              "          const docLink = document.createElement('div');\n",
              "          docLink.innerHTML = docLinkHtml;\n",
              "          element.appendChild(docLink);\n",
              "        }\n",
              "      </script>\n",
              "    </div>\n",
              "  </div>\n",
              "  "
            ]
          },
          "metadata": {},
          "execution_count": 243
        }
      ]
    },
    {
      "cell_type": "code",
      "source": [
        "df.info()"
      ],
      "metadata": {
        "id": "5TlFE5em8Aef",
        "colab": {
          "base_uri": "https://localhost:8080/"
        },
        "outputId": "bbdf5313-d017-440a-f619-88ea58946b37"
      },
      "execution_count": 244,
      "outputs": [
        {
          "output_type": "stream",
          "name": "stdout",
          "text": [
            "<class 'pandas.core.frame.DataFrame'>\n",
            "RangeIndex: 1460 entries, 0 to 1459\n",
            "Data columns (total 81 columns):\n",
            " #   Column         Non-Null Count  Dtype  \n",
            "---  ------         --------------  -----  \n",
            " 0   Id             1460 non-null   int64  \n",
            " 1   MSSubClass     1460 non-null   int64  \n",
            " 2   MSZoning       1460 non-null   object \n",
            " 3   LotFrontage    1201 non-null   float64\n",
            " 4   LotArea        1460 non-null   int64  \n",
            " 5   Street         1460 non-null   object \n",
            " 6   Alley          91 non-null     object \n",
            " 7   LotShape       1460 non-null   object \n",
            " 8   LandContour    1460 non-null   object \n",
            " 9   Utilities      1460 non-null   object \n",
            " 10  LotConfig      1460 non-null   object \n",
            " 11  LandSlope      1460 non-null   object \n",
            " 12  Neighborhood   1460 non-null   object \n",
            " 13  Condition1     1460 non-null   object \n",
            " 14  Condition2     1460 non-null   object \n",
            " 15  BldgType       1460 non-null   object \n",
            " 16  HouseStyle     1460 non-null   object \n",
            " 17  OverallQual    1460 non-null   int64  \n",
            " 18  OverallCond    1460 non-null   int64  \n",
            " 19  YearBuilt      1460 non-null   int64  \n",
            " 20  YearRemodAdd   1460 non-null   int64  \n",
            " 21  RoofStyle      1460 non-null   object \n",
            " 22  RoofMatl       1460 non-null   object \n",
            " 23  Exterior1st    1460 non-null   object \n",
            " 24  Exterior2nd    1460 non-null   object \n",
            " 25  MasVnrType     1452 non-null   object \n",
            " 26  MasVnrArea     1452 non-null   float64\n",
            " 27  ExterQual      1460 non-null   object \n",
            " 28  ExterCond      1460 non-null   object \n",
            " 29  Foundation     1460 non-null   object \n",
            " 30  BsmtQual       1423 non-null   object \n",
            " 31  BsmtCond       1423 non-null   object \n",
            " 32  BsmtExposure   1422 non-null   object \n",
            " 33  BsmtFinType1   1423 non-null   object \n",
            " 34  BsmtFinSF1     1460 non-null   int64  \n",
            " 35  BsmtFinType2   1422 non-null   object \n",
            " 36  BsmtFinSF2     1460 non-null   int64  \n",
            " 37  BsmtUnfSF      1460 non-null   int64  \n",
            " 38  TotalBsmtSF    1460 non-null   int64  \n",
            " 39  Heating        1460 non-null   object \n",
            " 40  HeatingQC      1460 non-null   object \n",
            " 41  CentralAir     1460 non-null   object \n",
            " 42  Electrical     1459 non-null   object \n",
            " 43  1stFlrSF       1460 non-null   int64  \n",
            " 44  2ndFlrSF       1460 non-null   int64  \n",
            " 45  LowQualFinSF   1460 non-null   int64  \n",
            " 46  GrLivArea      1460 non-null   int64  \n",
            " 47  BsmtFullBath   1460 non-null   int64  \n",
            " 48  BsmtHalfBath   1460 non-null   int64  \n",
            " 49  FullBath       1460 non-null   int64  \n",
            " 50  HalfBath       1460 non-null   int64  \n",
            " 51  BedroomAbvGr   1460 non-null   int64  \n",
            " 52  KitchenAbvGr   1460 non-null   int64  \n",
            " 53  KitchenQual    1460 non-null   object \n",
            " 54  TotRmsAbvGrd   1460 non-null   int64  \n",
            " 55  Functional     1460 non-null   object \n",
            " 56  Fireplaces     1460 non-null   int64  \n",
            " 57  FireplaceQu    770 non-null    object \n",
            " 58  GarageType     1379 non-null   object \n",
            " 59  GarageYrBlt    1379 non-null   float64\n",
            " 60  GarageFinish   1379 non-null   object \n",
            " 61  GarageCars     1460 non-null   int64  \n",
            " 62  GarageArea     1460 non-null   int64  \n",
            " 63  GarageQual     1379 non-null   object \n",
            " 64  GarageCond     1379 non-null   object \n",
            " 65  PavedDrive     1460 non-null   object \n",
            " 66  WoodDeckSF     1460 non-null   int64  \n",
            " 67  OpenPorchSF    1460 non-null   int64  \n",
            " 68  EnclosedPorch  1460 non-null   int64  \n",
            " 69  3SsnPorch      1460 non-null   int64  \n",
            " 70  ScreenPorch    1460 non-null   int64  \n",
            " 71  PoolArea       1460 non-null   int64  \n",
            " 72  PoolQC         7 non-null      object \n",
            " 73  Fence          281 non-null    object \n",
            " 74  MiscFeature    54 non-null     object \n",
            " 75  MiscVal        1460 non-null   int64  \n",
            " 76  MoSold         1460 non-null   int64  \n",
            " 77  YrSold         1460 non-null   int64  \n",
            " 78  SaleType       1460 non-null   object \n",
            " 79  SaleCondition  1460 non-null   object \n",
            " 80  SalePrice      1460 non-null   int64  \n",
            "dtypes: float64(3), int64(35), object(43)\n",
            "memory usage: 924.0+ KB\n"
          ]
        }
      ]
    },
    {
      "cell_type": "code",
      "source": [
        "df.describe()"
      ],
      "metadata": {
        "id": "xbENOmTi8Isc",
        "colab": {
          "base_uri": "https://localhost:8080/",
          "height": 394
        },
        "outputId": "cd49f3b3-4e7f-4d90-b69d-51eac79d77f6"
      },
      "execution_count": 245,
      "outputs": [
        {
          "output_type": "execute_result",
          "data": {
            "text/plain": [
              "            Id  MSSubClass  LotFrontage    LotArea  OverallQual  OverallCond  \\\n",
              "count 1,460.00    1,460.00     1,201.00   1,460.00     1,460.00     1,460.00   \n",
              "mean    730.50       56.90        70.05  10,516.83         6.10         5.58   \n",
              "std     421.61       42.30        24.28   9,981.26         1.38         1.11   \n",
              "min       1.00       20.00        21.00   1,300.00         1.00         1.00   \n",
              "25%     365.75       20.00        59.00   7,553.50         5.00         5.00   \n",
              "50%     730.50       50.00        69.00   9,478.50         6.00         5.00   \n",
              "75%   1,095.25       70.00        80.00  11,601.50         7.00         6.00   \n",
              "max   1,460.00      190.00       313.00 215,245.00        10.00         9.00   \n",
              "\n",
              "       YearBuilt  YearRemodAdd  MasVnrArea  BsmtFinSF1  ...  WoodDeckSF  \\\n",
              "count   1,460.00      1,460.00    1,452.00    1,460.00  ...    1,460.00   \n",
              "mean    1,971.27      1,984.87      103.69      443.64  ...       94.24   \n",
              "std        30.20         20.65      181.07      456.10  ...      125.34   \n",
              "min     1,872.00      1,950.00        0.00        0.00  ...        0.00   \n",
              "25%     1,954.00      1,967.00        0.00        0.00  ...        0.00   \n",
              "50%     1,973.00      1,994.00        0.00      383.50  ...        0.00   \n",
              "75%     2,000.00      2,004.00      166.00      712.25  ...      168.00   \n",
              "max     2,010.00      2,010.00    1,600.00    5,644.00  ...      857.00   \n",
              "\n",
              "       OpenPorchSF  EnclosedPorch  3SsnPorch  ScreenPorch  PoolArea   MiscVal  \\\n",
              "count     1,460.00       1,460.00   1,460.00     1,460.00  1,460.00  1,460.00   \n",
              "mean         46.66          21.95       3.41        15.06      2.76     43.49   \n",
              "std          66.26          61.12      29.32        55.76     40.18    496.12   \n",
              "min           0.00           0.00       0.00         0.00      0.00      0.00   \n",
              "25%           0.00           0.00       0.00         0.00      0.00      0.00   \n",
              "50%          25.00           0.00       0.00         0.00      0.00      0.00   \n",
              "75%          68.00           0.00       0.00         0.00      0.00      0.00   \n",
              "max         547.00         552.00     508.00       480.00    738.00 15,500.00   \n",
              "\n",
              "        MoSold   YrSold  SalePrice  \n",
              "count 1,460.00 1,460.00   1,460.00  \n",
              "mean      6.32 2,007.82 180,921.20  \n",
              "std       2.70     1.33  79,442.50  \n",
              "min       1.00 2,006.00  34,900.00  \n",
              "25%       5.00 2,007.00 129,975.00  \n",
              "50%       6.00 2,008.00 163,000.00  \n",
              "75%       8.00 2,009.00 214,000.00  \n",
              "max      12.00 2,010.00 755,000.00  \n",
              "\n",
              "[8 rows x 38 columns]"
            ],
            "text/html": [
              "\n",
              "  <div id=\"df-85cc93ec-5173-4767-875c-7f1ca6c9e6f5\">\n",
              "    <div class=\"colab-df-container\">\n",
              "      <div>\n",
              "<style scoped>\n",
              "    .dataframe tbody tr th:only-of-type {\n",
              "        vertical-align: middle;\n",
              "    }\n",
              "\n",
              "    .dataframe tbody tr th {\n",
              "        vertical-align: top;\n",
              "    }\n",
              "\n",
              "    .dataframe thead th {\n",
              "        text-align: right;\n",
              "    }\n",
              "</style>\n",
              "<table border=\"1\" class=\"dataframe\">\n",
              "  <thead>\n",
              "    <tr style=\"text-align: right;\">\n",
              "      <th></th>\n",
              "      <th>Id</th>\n",
              "      <th>MSSubClass</th>\n",
              "      <th>LotFrontage</th>\n",
              "      <th>LotArea</th>\n",
              "      <th>OverallQual</th>\n",
              "      <th>OverallCond</th>\n",
              "      <th>YearBuilt</th>\n",
              "      <th>YearRemodAdd</th>\n",
              "      <th>MasVnrArea</th>\n",
              "      <th>BsmtFinSF1</th>\n",
              "      <th>...</th>\n",
              "      <th>WoodDeckSF</th>\n",
              "      <th>OpenPorchSF</th>\n",
              "      <th>EnclosedPorch</th>\n",
              "      <th>3SsnPorch</th>\n",
              "      <th>ScreenPorch</th>\n",
              "      <th>PoolArea</th>\n",
              "      <th>MiscVal</th>\n",
              "      <th>MoSold</th>\n",
              "      <th>YrSold</th>\n",
              "      <th>SalePrice</th>\n",
              "    </tr>\n",
              "  </thead>\n",
              "  <tbody>\n",
              "    <tr>\n",
              "      <th>count</th>\n",
              "      <td>1,460.00</td>\n",
              "      <td>1,460.00</td>\n",
              "      <td>1,201.00</td>\n",
              "      <td>1,460.00</td>\n",
              "      <td>1,460.00</td>\n",
              "      <td>1,460.00</td>\n",
              "      <td>1,460.00</td>\n",
              "      <td>1,460.00</td>\n",
              "      <td>1,452.00</td>\n",
              "      <td>1,460.00</td>\n",
              "      <td>...</td>\n",
              "      <td>1,460.00</td>\n",
              "      <td>1,460.00</td>\n",
              "      <td>1,460.00</td>\n",
              "      <td>1,460.00</td>\n",
              "      <td>1,460.00</td>\n",
              "      <td>1,460.00</td>\n",
              "      <td>1,460.00</td>\n",
              "      <td>1,460.00</td>\n",
              "      <td>1,460.00</td>\n",
              "      <td>1,460.00</td>\n",
              "    </tr>\n",
              "    <tr>\n",
              "      <th>mean</th>\n",
              "      <td>730.50</td>\n",
              "      <td>56.90</td>\n",
              "      <td>70.05</td>\n",
              "      <td>10,516.83</td>\n",
              "      <td>6.10</td>\n",
              "      <td>5.58</td>\n",
              "      <td>1,971.27</td>\n",
              "      <td>1,984.87</td>\n",
              "      <td>103.69</td>\n",
              "      <td>443.64</td>\n",
              "      <td>...</td>\n",
              "      <td>94.24</td>\n",
              "      <td>46.66</td>\n",
              "      <td>21.95</td>\n",
              "      <td>3.41</td>\n",
              "      <td>15.06</td>\n",
              "      <td>2.76</td>\n",
              "      <td>43.49</td>\n",
              "      <td>6.32</td>\n",
              "      <td>2,007.82</td>\n",
              "      <td>180,921.20</td>\n",
              "    </tr>\n",
              "    <tr>\n",
              "      <th>std</th>\n",
              "      <td>421.61</td>\n",
              "      <td>42.30</td>\n",
              "      <td>24.28</td>\n",
              "      <td>9,981.26</td>\n",
              "      <td>1.38</td>\n",
              "      <td>1.11</td>\n",
              "      <td>30.20</td>\n",
              "      <td>20.65</td>\n",
              "      <td>181.07</td>\n",
              "      <td>456.10</td>\n",
              "      <td>...</td>\n",
              "      <td>125.34</td>\n",
              "      <td>66.26</td>\n",
              "      <td>61.12</td>\n",
              "      <td>29.32</td>\n",
              "      <td>55.76</td>\n",
              "      <td>40.18</td>\n",
              "      <td>496.12</td>\n",
              "      <td>2.70</td>\n",
              "      <td>1.33</td>\n",
              "      <td>79,442.50</td>\n",
              "    </tr>\n",
              "    <tr>\n",
              "      <th>min</th>\n",
              "      <td>1.00</td>\n",
              "      <td>20.00</td>\n",
              "      <td>21.00</td>\n",
              "      <td>1,300.00</td>\n",
              "      <td>1.00</td>\n",
              "      <td>1.00</td>\n",
              "      <td>1,872.00</td>\n",
              "      <td>1,950.00</td>\n",
              "      <td>0.00</td>\n",
              "      <td>0.00</td>\n",
              "      <td>...</td>\n",
              "      <td>0.00</td>\n",
              "      <td>0.00</td>\n",
              "      <td>0.00</td>\n",
              "      <td>0.00</td>\n",
              "      <td>0.00</td>\n",
              "      <td>0.00</td>\n",
              "      <td>0.00</td>\n",
              "      <td>1.00</td>\n",
              "      <td>2,006.00</td>\n",
              "      <td>34,900.00</td>\n",
              "    </tr>\n",
              "    <tr>\n",
              "      <th>25%</th>\n",
              "      <td>365.75</td>\n",
              "      <td>20.00</td>\n",
              "      <td>59.00</td>\n",
              "      <td>7,553.50</td>\n",
              "      <td>5.00</td>\n",
              "      <td>5.00</td>\n",
              "      <td>1,954.00</td>\n",
              "      <td>1,967.00</td>\n",
              "      <td>0.00</td>\n",
              "      <td>0.00</td>\n",
              "      <td>...</td>\n",
              "      <td>0.00</td>\n",
              "      <td>0.00</td>\n",
              "      <td>0.00</td>\n",
              "      <td>0.00</td>\n",
              "      <td>0.00</td>\n",
              "      <td>0.00</td>\n",
              "      <td>0.00</td>\n",
              "      <td>5.00</td>\n",
              "      <td>2,007.00</td>\n",
              "      <td>129,975.00</td>\n",
              "    </tr>\n",
              "    <tr>\n",
              "      <th>50%</th>\n",
              "      <td>730.50</td>\n",
              "      <td>50.00</td>\n",
              "      <td>69.00</td>\n",
              "      <td>9,478.50</td>\n",
              "      <td>6.00</td>\n",
              "      <td>5.00</td>\n",
              "      <td>1,973.00</td>\n",
              "      <td>1,994.00</td>\n",
              "      <td>0.00</td>\n",
              "      <td>383.50</td>\n",
              "      <td>...</td>\n",
              "      <td>0.00</td>\n",
              "      <td>25.00</td>\n",
              "      <td>0.00</td>\n",
              "      <td>0.00</td>\n",
              "      <td>0.00</td>\n",
              "      <td>0.00</td>\n",
              "      <td>0.00</td>\n",
              "      <td>6.00</td>\n",
              "      <td>2,008.00</td>\n",
              "      <td>163,000.00</td>\n",
              "    </tr>\n",
              "    <tr>\n",
              "      <th>75%</th>\n",
              "      <td>1,095.25</td>\n",
              "      <td>70.00</td>\n",
              "      <td>80.00</td>\n",
              "      <td>11,601.50</td>\n",
              "      <td>7.00</td>\n",
              "      <td>6.00</td>\n",
              "      <td>2,000.00</td>\n",
              "      <td>2,004.00</td>\n",
              "      <td>166.00</td>\n",
              "      <td>712.25</td>\n",
              "      <td>...</td>\n",
              "      <td>168.00</td>\n",
              "      <td>68.00</td>\n",
              "      <td>0.00</td>\n",
              "      <td>0.00</td>\n",
              "      <td>0.00</td>\n",
              "      <td>0.00</td>\n",
              "      <td>0.00</td>\n",
              "      <td>8.00</td>\n",
              "      <td>2,009.00</td>\n",
              "      <td>214,000.00</td>\n",
              "    </tr>\n",
              "    <tr>\n",
              "      <th>max</th>\n",
              "      <td>1,460.00</td>\n",
              "      <td>190.00</td>\n",
              "      <td>313.00</td>\n",
              "      <td>215,245.00</td>\n",
              "      <td>10.00</td>\n",
              "      <td>9.00</td>\n",
              "      <td>2,010.00</td>\n",
              "      <td>2,010.00</td>\n",
              "      <td>1,600.00</td>\n",
              "      <td>5,644.00</td>\n",
              "      <td>...</td>\n",
              "      <td>857.00</td>\n",
              "      <td>547.00</td>\n",
              "      <td>552.00</td>\n",
              "      <td>508.00</td>\n",
              "      <td>480.00</td>\n",
              "      <td>738.00</td>\n",
              "      <td>15,500.00</td>\n",
              "      <td>12.00</td>\n",
              "      <td>2,010.00</td>\n",
              "      <td>755,000.00</td>\n",
              "    </tr>\n",
              "  </tbody>\n",
              "</table>\n",
              "<p>8 rows × 38 columns</p>\n",
              "</div>\n",
              "      <button class=\"colab-df-convert\" onclick=\"convertToInteractive('df-85cc93ec-5173-4767-875c-7f1ca6c9e6f5')\"\n",
              "              title=\"Convert this dataframe to an interactive table.\"\n",
              "              style=\"display:none;\">\n",
              "        \n",
              "  <svg xmlns=\"http://www.w3.org/2000/svg\" height=\"24px\"viewBox=\"0 0 24 24\"\n",
              "       width=\"24px\">\n",
              "    <path d=\"M0 0h24v24H0V0z\" fill=\"none\"/>\n",
              "    <path d=\"M18.56 5.44l.94 2.06.94-2.06 2.06-.94-2.06-.94-.94-2.06-.94 2.06-2.06.94zm-11 1L8.5 8.5l.94-2.06 2.06-.94-2.06-.94L8.5 2.5l-.94 2.06-2.06.94zm10 10l.94 2.06.94-2.06 2.06-.94-2.06-.94-.94-2.06-.94 2.06-2.06.94z\"/><path d=\"M17.41 7.96l-1.37-1.37c-.4-.4-.92-.59-1.43-.59-.52 0-1.04.2-1.43.59L10.3 9.45l-7.72 7.72c-.78.78-.78 2.05 0 2.83L4 21.41c.39.39.9.59 1.41.59.51 0 1.02-.2 1.41-.59l7.78-7.78 2.81-2.81c.8-.78.8-2.07 0-2.86zM5.41 20L4 18.59l7.72-7.72 1.47 1.35L5.41 20z\"/>\n",
              "  </svg>\n",
              "      </button>\n",
              "      \n",
              "  <style>\n",
              "    .colab-df-container {\n",
              "      display:flex;\n",
              "      flex-wrap:wrap;\n",
              "      gap: 12px;\n",
              "    }\n",
              "\n",
              "    .colab-df-convert {\n",
              "      background-color: #E8F0FE;\n",
              "      border: none;\n",
              "      border-radius: 50%;\n",
              "      cursor: pointer;\n",
              "      display: none;\n",
              "      fill: #1967D2;\n",
              "      height: 32px;\n",
              "      padding: 0 0 0 0;\n",
              "      width: 32px;\n",
              "    }\n",
              "\n",
              "    .colab-df-convert:hover {\n",
              "      background-color: #E2EBFA;\n",
              "      box-shadow: 0px 1px 2px rgba(60, 64, 67, 0.3), 0px 1px 3px 1px rgba(60, 64, 67, 0.15);\n",
              "      fill: #174EA6;\n",
              "    }\n",
              "\n",
              "    [theme=dark] .colab-df-convert {\n",
              "      background-color: #3B4455;\n",
              "      fill: #D2E3FC;\n",
              "    }\n",
              "\n",
              "    [theme=dark] .colab-df-convert:hover {\n",
              "      background-color: #434B5C;\n",
              "      box-shadow: 0px 1px 3px 1px rgba(0, 0, 0, 0.15);\n",
              "      filter: drop-shadow(0px 1px 2px rgba(0, 0, 0, 0.3));\n",
              "      fill: #FFFFFF;\n",
              "    }\n",
              "  </style>\n",
              "\n",
              "      <script>\n",
              "        const buttonEl =\n",
              "          document.querySelector('#df-85cc93ec-5173-4767-875c-7f1ca6c9e6f5 button.colab-df-convert');\n",
              "        buttonEl.style.display =\n",
              "          google.colab.kernel.accessAllowed ? 'block' : 'none';\n",
              "\n",
              "        async function convertToInteractive(key) {\n",
              "          const element = document.querySelector('#df-85cc93ec-5173-4767-875c-7f1ca6c9e6f5');\n",
              "          const dataTable =\n",
              "            await google.colab.kernel.invokeFunction('convertToInteractive',\n",
              "                                                     [key], {});\n",
              "          if (!dataTable) return;\n",
              "\n",
              "          const docLinkHtml = 'Like what you see? Visit the ' +\n",
              "            '<a target=\"_blank\" href=https://colab.research.google.com/notebooks/data_table.ipynb>data table notebook</a>'\n",
              "            + ' to learn more about interactive tables.';\n",
              "          element.innerHTML = '';\n",
              "          dataTable['output_type'] = 'display_data';\n",
              "          await google.colab.output.renderOutput(dataTable, element);\n",
              "          const docLink = document.createElement('div');\n",
              "          docLink.innerHTML = docLinkHtml;\n",
              "          element.appendChild(docLink);\n",
              "        }\n",
              "      </script>\n",
              "    </div>\n",
              "  </div>\n",
              "  "
            ]
          },
          "metadata": {},
          "execution_count": 245
        }
      ]
    },
    {
      "cell_type": "markdown",
      "source": [
        "# Dealing with NaNs"
      ],
      "metadata": {
        "id": "myvMRzPm5KM1"
      }
    },
    {
      "cell_type": "code",
      "source": [
        "df.isna().sum()"
      ],
      "metadata": {
        "id": "2x-Wz8_Q8OSJ",
        "colab": {
          "base_uri": "https://localhost:8080/"
        },
        "outputId": "363bf2a9-4a73-4dae-f8b1-d328d7a2e1c9"
      },
      "execution_count": 246,
      "outputs": [
        {
          "output_type": "execute_result",
          "data": {
            "text/plain": [
              "Id                 0\n",
              "MSSubClass         0\n",
              "MSZoning           0\n",
              "LotFrontage      259\n",
              "LotArea            0\n",
              "                ... \n",
              "MoSold             0\n",
              "YrSold             0\n",
              "SaleType           0\n",
              "SaleCondition      0\n",
              "SalePrice          0\n",
              "Length: 81, dtype: int64"
            ]
          },
          "metadata": {},
          "execution_count": 246
        }
      ]
    },
    {
      "cell_type": "code",
      "source": [
        "df.columns[df.isnull().any()]"
      ],
      "metadata": {
        "id": "liJXt80z-2gO",
        "colab": {
          "base_uri": "https://localhost:8080/"
        },
        "outputId": "45b22e6b-3d00-41c2-caae-c1a9b4a9ee40"
      },
      "execution_count": 247,
      "outputs": [
        {
          "output_type": "execute_result",
          "data": {
            "text/plain": [
              "Index(['LotFrontage', 'Alley', 'MasVnrType', 'MasVnrArea', 'BsmtQual',\n",
              "       'BsmtCond', 'BsmtExposure', 'BsmtFinType1', 'BsmtFinType2',\n",
              "       'Electrical', 'FireplaceQu', 'GarageType', 'GarageYrBlt',\n",
              "       'GarageFinish', 'GarageQual', 'GarageCond', 'PoolQC', 'Fence',\n",
              "       'MiscFeature'],\n",
              "      dtype='object')"
            ]
          },
          "metadata": {},
          "execution_count": 247
        }
      ]
    },
    {
      "cell_type": "code",
      "source": [
        "percent_missing = df.isnull().sum() * 100 / len(df)\n",
        "missing_value_df = pd.DataFrame({'column_name': df.columns,\n",
        "                                 'percent_missing': percent_missing})\n",
        "\n",
        "missing_value_df.sort_values('percent_missing', inplace = True, ascending = False)\n",
        "missing_value_df"
      ],
      "metadata": {
        "id": "A9WTiGqbAuOm",
        "colab": {
          "base_uri": "https://localhost:8080/",
          "height": 424
        },
        "outputId": "e81fbf6b-8026-4a4d-d8b8-60077fc52fa4"
      },
      "execution_count": 248,
      "outputs": [
        {
          "output_type": "execute_result",
          "data": {
            "text/plain": [
              "             column_name  percent_missing\n",
              "PoolQC            PoolQC            99.52\n",
              "MiscFeature  MiscFeature            96.30\n",
              "Alley              Alley            93.77\n",
              "Fence              Fence            80.75\n",
              "FireplaceQu  FireplaceQu            47.26\n",
              "...                  ...              ...\n",
              "ExterQual      ExterQual             0.00\n",
              "Exterior2nd  Exterior2nd             0.00\n",
              "Exterior1st  Exterior1st             0.00\n",
              "RoofMatl        RoofMatl             0.00\n",
              "SalePrice      SalePrice             0.00\n",
              "\n",
              "[81 rows x 2 columns]"
            ],
            "text/html": [
              "\n",
              "  <div id=\"df-85a98900-2eb0-4535-9322-1990c9a79a88\">\n",
              "    <div class=\"colab-df-container\">\n",
              "      <div>\n",
              "<style scoped>\n",
              "    .dataframe tbody tr th:only-of-type {\n",
              "        vertical-align: middle;\n",
              "    }\n",
              "\n",
              "    .dataframe tbody tr th {\n",
              "        vertical-align: top;\n",
              "    }\n",
              "\n",
              "    .dataframe thead th {\n",
              "        text-align: right;\n",
              "    }\n",
              "</style>\n",
              "<table border=\"1\" class=\"dataframe\">\n",
              "  <thead>\n",
              "    <tr style=\"text-align: right;\">\n",
              "      <th></th>\n",
              "      <th>column_name</th>\n",
              "      <th>percent_missing</th>\n",
              "    </tr>\n",
              "  </thead>\n",
              "  <tbody>\n",
              "    <tr>\n",
              "      <th>PoolQC</th>\n",
              "      <td>PoolQC</td>\n",
              "      <td>99.52</td>\n",
              "    </tr>\n",
              "    <tr>\n",
              "      <th>MiscFeature</th>\n",
              "      <td>MiscFeature</td>\n",
              "      <td>96.30</td>\n",
              "    </tr>\n",
              "    <tr>\n",
              "      <th>Alley</th>\n",
              "      <td>Alley</td>\n",
              "      <td>93.77</td>\n",
              "    </tr>\n",
              "    <tr>\n",
              "      <th>Fence</th>\n",
              "      <td>Fence</td>\n",
              "      <td>80.75</td>\n",
              "    </tr>\n",
              "    <tr>\n",
              "      <th>FireplaceQu</th>\n",
              "      <td>FireplaceQu</td>\n",
              "      <td>47.26</td>\n",
              "    </tr>\n",
              "    <tr>\n",
              "      <th>...</th>\n",
              "      <td>...</td>\n",
              "      <td>...</td>\n",
              "    </tr>\n",
              "    <tr>\n",
              "      <th>ExterQual</th>\n",
              "      <td>ExterQual</td>\n",
              "      <td>0.00</td>\n",
              "    </tr>\n",
              "    <tr>\n",
              "      <th>Exterior2nd</th>\n",
              "      <td>Exterior2nd</td>\n",
              "      <td>0.00</td>\n",
              "    </tr>\n",
              "    <tr>\n",
              "      <th>Exterior1st</th>\n",
              "      <td>Exterior1st</td>\n",
              "      <td>0.00</td>\n",
              "    </tr>\n",
              "    <tr>\n",
              "      <th>RoofMatl</th>\n",
              "      <td>RoofMatl</td>\n",
              "      <td>0.00</td>\n",
              "    </tr>\n",
              "    <tr>\n",
              "      <th>SalePrice</th>\n",
              "      <td>SalePrice</td>\n",
              "      <td>0.00</td>\n",
              "    </tr>\n",
              "  </tbody>\n",
              "</table>\n",
              "<p>81 rows × 2 columns</p>\n",
              "</div>\n",
              "      <button class=\"colab-df-convert\" onclick=\"convertToInteractive('df-85a98900-2eb0-4535-9322-1990c9a79a88')\"\n",
              "              title=\"Convert this dataframe to an interactive table.\"\n",
              "              style=\"display:none;\">\n",
              "        \n",
              "  <svg xmlns=\"http://www.w3.org/2000/svg\" height=\"24px\"viewBox=\"0 0 24 24\"\n",
              "       width=\"24px\">\n",
              "    <path d=\"M0 0h24v24H0V0z\" fill=\"none\"/>\n",
              "    <path d=\"M18.56 5.44l.94 2.06.94-2.06 2.06-.94-2.06-.94-.94-2.06-.94 2.06-2.06.94zm-11 1L8.5 8.5l.94-2.06 2.06-.94-2.06-.94L8.5 2.5l-.94 2.06-2.06.94zm10 10l.94 2.06.94-2.06 2.06-.94-2.06-.94-.94-2.06-.94 2.06-2.06.94z\"/><path d=\"M17.41 7.96l-1.37-1.37c-.4-.4-.92-.59-1.43-.59-.52 0-1.04.2-1.43.59L10.3 9.45l-7.72 7.72c-.78.78-.78 2.05 0 2.83L4 21.41c.39.39.9.59 1.41.59.51 0 1.02-.2 1.41-.59l7.78-7.78 2.81-2.81c.8-.78.8-2.07 0-2.86zM5.41 20L4 18.59l7.72-7.72 1.47 1.35L5.41 20z\"/>\n",
              "  </svg>\n",
              "      </button>\n",
              "      \n",
              "  <style>\n",
              "    .colab-df-container {\n",
              "      display:flex;\n",
              "      flex-wrap:wrap;\n",
              "      gap: 12px;\n",
              "    }\n",
              "\n",
              "    .colab-df-convert {\n",
              "      background-color: #E8F0FE;\n",
              "      border: none;\n",
              "      border-radius: 50%;\n",
              "      cursor: pointer;\n",
              "      display: none;\n",
              "      fill: #1967D2;\n",
              "      height: 32px;\n",
              "      padding: 0 0 0 0;\n",
              "      width: 32px;\n",
              "    }\n",
              "\n",
              "    .colab-df-convert:hover {\n",
              "      background-color: #E2EBFA;\n",
              "      box-shadow: 0px 1px 2px rgba(60, 64, 67, 0.3), 0px 1px 3px 1px rgba(60, 64, 67, 0.15);\n",
              "      fill: #174EA6;\n",
              "    }\n",
              "\n",
              "    [theme=dark] .colab-df-convert {\n",
              "      background-color: #3B4455;\n",
              "      fill: #D2E3FC;\n",
              "    }\n",
              "\n",
              "    [theme=dark] .colab-df-convert:hover {\n",
              "      background-color: #434B5C;\n",
              "      box-shadow: 0px 1px 3px 1px rgba(0, 0, 0, 0.15);\n",
              "      filter: drop-shadow(0px 1px 2px rgba(0, 0, 0, 0.3));\n",
              "      fill: #FFFFFF;\n",
              "    }\n",
              "  </style>\n",
              "\n",
              "      <script>\n",
              "        const buttonEl =\n",
              "          document.querySelector('#df-85a98900-2eb0-4535-9322-1990c9a79a88 button.colab-df-convert');\n",
              "        buttonEl.style.display =\n",
              "          google.colab.kernel.accessAllowed ? 'block' : 'none';\n",
              "\n",
              "        async function convertToInteractive(key) {\n",
              "          const element = document.querySelector('#df-85a98900-2eb0-4535-9322-1990c9a79a88');\n",
              "          const dataTable =\n",
              "            await google.colab.kernel.invokeFunction('convertToInteractive',\n",
              "                                                     [key], {});\n",
              "          if (!dataTable) return;\n",
              "\n",
              "          const docLinkHtml = 'Like what you see? Visit the ' +\n",
              "            '<a target=\"_blank\" href=https://colab.research.google.com/notebooks/data_table.ipynb>data table notebook</a>'\n",
              "            + ' to learn more about interactive tables.';\n",
              "          element.innerHTML = '';\n",
              "          dataTable['output_type'] = 'display_data';\n",
              "          await google.colab.output.renderOutput(dataTable, element);\n",
              "          const docLink = document.createElement('div');\n",
              "          docLink.innerHTML = docLinkHtml;\n",
              "          element.appendChild(docLink);\n",
              "        }\n",
              "      </script>\n",
              "    </div>\n",
              "  </div>\n",
              "  "
            ]
          },
          "metadata": {},
          "execution_count": 248
        }
      ]
    },
    {
      "cell_type": "markdown",
      "source": [
        "PoolQC, MiscFeature, Alley, and Fence columns all have missing values that go above 80%, hence, they will be dropped as a column."
      ],
      "metadata": {
        "id": "aWKp_riS5OiT"
      }
    },
    {
      "cell_type": "code",
      "source": [
        "drop_cols = ['PoolQC', 'MiscFeature', 'Alley', 'Fence']\n",
        "df.drop(drop_cols, axis = 1, inplace = True)\n",
        "\n",
        "df.columns[df.isnull().any()]"
      ],
      "metadata": {
        "id": "YzJ-9KoBCvZK",
        "colab": {
          "base_uri": "https://localhost:8080/"
        },
        "outputId": "487c6290-bd34-4dda-ff0a-69c48ede8235"
      },
      "execution_count": 249,
      "outputs": [
        {
          "output_type": "execute_result",
          "data": {
            "text/plain": [
              "Index(['LotFrontage', 'MasVnrType', 'MasVnrArea', 'BsmtQual', 'BsmtCond',\n",
              "       'BsmtExposure', 'BsmtFinType1', 'BsmtFinType2', 'Electrical',\n",
              "       'FireplaceQu', 'GarageType', 'GarageYrBlt', 'GarageFinish',\n",
              "       'GarageQual', 'GarageCond'],\n",
              "      dtype='object')"
            ]
          },
          "metadata": {},
          "execution_count": 249
        }
      ]
    },
    {
      "cell_type": "code",
      "source": [
        "ax = sns.distplot(df['LotFrontage'])\n",
        "\n",
        "ax.axvline(df['LotFrontage'].mean(), color = 'red', ls = '--')\n",
        "ax.axvline(df['LotFrontage'].median(), color = 'green')\n",
        "\n",
        "plt.show()"
      ],
      "metadata": {
        "id": "nl1GpJfC8yaF",
        "colab": {
          "base_uri": "https://localhost:8080/",
          "height": 334
        },
        "outputId": "0c696cc4-ff5a-4f8b-ae94-6acff4fbb532"
      },
      "execution_count": 250,
      "outputs": [
        {
          "output_type": "stream",
          "name": "stderr",
          "text": [
            "/usr/local/lib/python3.7/dist-packages/seaborn/distributions.py:2619: FutureWarning: `distplot` is a deprecated function and will be removed in a future version. Please adapt your code to use either `displot` (a figure-level function with similar flexibility) or `histplot` (an axes-level function for histograms).\n",
            "  warnings.warn(msg, FutureWarning)\n"
          ]
        },
        {
          "output_type": "display_data",
          "data": {
            "text/plain": [
              "<Figure size 432x288 with 1 Axes>"
            ],
            "image/png": "[encoded data removed]"
          },
          "metadata": {
            "needs_background": "light"
          }
        }
      ]
    },
    {
      "cell_type": "markdown",
      "source": [
        "Data is skewed but not enough that the mean and median is far apart, hence, mean will be used as measure of central tendency which will be used to impute null values."
      ],
      "metadata": {
        "id": "JCmFBZBQ5ezH"
      }
    },
    {
      "cell_type": "code",
      "source": [
        "df['LotFrontage'].fillna(df['LotFrontage'].mean(), inplace = True)\n",
        "\n",
        "df['LotFrontage'].isna().sum()"
      ],
      "metadata": {
        "id": "zxwpBE5M-K7u",
        "colab": {
          "base_uri": "https://localhost:8080/"
        },
        "outputId": "5a763278-4e81-425a-f3bd-fd2f29b20592"
      },
      "execution_count": 251,
      "outputs": [
        {
          "output_type": "execute_result",
          "data": {
            "text/plain": [
              "0"
            ]
          },
          "metadata": {},
          "execution_count": 251
        }
      ]
    },
    {
      "cell_type": "code",
      "source": [
        "df['MasVnrType'].value_counts()"
      ],
      "metadata": {
        "id": "icuG1Rzc-qmd",
        "colab": {
          "base_uri": "https://localhost:8080/"
        },
        "outputId": "aef88523-60a9-4fd0-d2e5-873cc993468c"
      },
      "execution_count": 252,
      "outputs": [
        {
          "output_type": "execute_result",
          "data": {
            "text/plain": [
              "None       864\n",
              "BrkFace    445\n",
              "Stone      128\n",
              "BrkCmn      15\n",
              "Name: MasVnrType, dtype: int64"
            ]
          },
          "metadata": {},
          "execution_count": 252
        }
      ]
    },
    {
      "cell_type": "markdown",
      "source": [
        "Since None is an available category, it can be deduced that the null values are also None, given that it's the most frequently occuring (mode). The mode will be used to impute null values."
      ],
      "metadata": {
        "id": "jYE_Twiu5uhN"
      }
    },
    {
      "cell_type": "code",
      "source": [
        "df['MasVnrType'].fillna('None', inplace = True)\n",
        "df['MasVnrType'].isna().sum()"
      ],
      "metadata": {
        "id": "QMyZxKTkD8QL",
        "colab": {
          "base_uri": "https://localhost:8080/"
        },
        "outputId": "963d2519-7114-4320-8702-6247d24482db"
      },
      "execution_count": 253,
      "outputs": [
        {
          "output_type": "execute_result",
          "data": {
            "text/plain": [
              "0"
            ]
          },
          "metadata": {},
          "execution_count": 253
        }
      ]
    },
    {
      "cell_type": "code",
      "source": [
        "df['MasVnrArea'].value_counts().sort_values(ascending = False)"
      ],
      "metadata": {
        "id": "3CgDWDJHDTTk",
        "colab": {
          "base_uri": "https://localhost:8080/"
        },
        "outputId": "ded543e8-0ba4-4fd6-bdcc-bdf6c465a43b"
      },
      "execution_count": 254,
      "outputs": [
        {
          "output_type": "execute_result",
          "data": {
            "text/plain": [
              "0.00      861\n",
              "72.00       8\n",
              "108.00      8\n",
              "180.00      8\n",
              "120.00      7\n",
              "         ... \n",
              "760.00      1\n",
              "391.00      1\n",
              "27.00       1\n",
              "361.00      1\n",
              "119.00      1\n",
              "Name: MasVnrArea, Length: 327, dtype: int64"
            ]
          },
          "metadata": {},
          "execution_count": 254
        }
      ]
    },
    {
      "cell_type": "code",
      "source": [
        "ax = sns.distplot(df['MasVnrArea'])\n",
        "\n",
        "ax.axvline(df['MasVnrArea'].mean(), color = 'red', ls = '--')\n",
        "ax.axvline(df['MasVnrArea'].median(), color = 'green')\n",
        "\n",
        "plt.show()"
      ],
      "metadata": {
        "id": "hf3nXu8dEAuN",
        "colab": {
          "base_uri": "https://localhost:8080/",
          "height": 334
        },
        "outputId": "7a0a22b9-98a7-4f2e-e235-61c977c55bdd"
      },
      "execution_count": 255,
      "outputs": [
        {
          "output_type": "stream",
          "name": "stderr",
          "text": [
            "/usr/local/lib/python3.7/dist-packages/seaborn/distributions.py:2619: FutureWarning: `distplot` is a deprecated function and will be removed in a future version. Please adapt your code to use either `displot` (a figure-level function with similar flexibility) or `histplot` (an axes-level function for histograms).\n",
            "  warnings.warn(msg, FutureWarning)\n"
          ]
        },
        {
          "output_type": "display_data",
          "data": {
            "text/plain": [
              "<Figure size 432x288 with 1 Axes>"
            ],
            "image/png": "[encoded data removed]"
          },
          "metadata": {
            "needs_background": "light"
          }
        }
      ]
    },
    {
      "cell_type": "code",
      "source": [
        "print(df['MasVnrArea'].mean(), df['MasVnrArea'].median())"
      ],
      "metadata": {
        "colab": {
          "base_uri": "https://localhost:8080/"
        },
        "id": "lB9dXu6f6Gge",
        "outputId": "a584a3bf-673f-4045-815e-e556f3f78079"
      },
      "execution_count": 256,
      "outputs": [
        {
          "output_type": "stream",
          "name": "stdout",
          "text": [
            "103.68526170798899 0.0\n"
          ]
        }
      ]
    },
    {
      "cell_type": "markdown",
      "source": [
        "Data is skewed, hence, it would be better off to use the median as measure of central tendency to impute null values."
      ],
      "metadata": {
        "id": "GqxKuzf76LzA"
      }
    },
    {
      "cell_type": "code",
      "source": [
        "df['MasVnrArea'].fillna(0.0, inplace = True)\n",
        "df['MasVnrArea'].isna().sum()"
      ],
      "metadata": {
        "id": "67TNTwB3EZd6",
        "colab": {
          "base_uri": "https://localhost:8080/"
        },
        "outputId": "54208b71-8e72-424a-a010-eae7f32fda1f"
      },
      "execution_count": 257,
      "outputs": [
        {
          "output_type": "execute_result",
          "data": {
            "text/plain": [
              "0"
            ]
          },
          "metadata": {},
          "execution_count": 257
        }
      ]
    },
    {
      "cell_type": "code",
      "source": [
        "basement_cols = ['BsmtQual', 'BsmtCond', 'BsmtExposure', 'BsmtFinType1', 'BsmtFinType2']\n",
        "df[basement_cols].isna().sum()"
      ],
      "metadata": {
        "id": "Tw4Ro4KVEjJs",
        "colab": {
          "base_uri": "https://localhost:8080/"
        },
        "outputId": "ca6b6afe-f267-4b3c-bc00-e8c6bf9c4d0b"
      },
      "execution_count": 258,
      "outputs": [
        {
          "output_type": "execute_result",
          "data": {
            "text/plain": [
              "BsmtQual        37\n",
              "BsmtCond        37\n",
              "BsmtExposure    38\n",
              "BsmtFinType1    37\n",
              "BsmtFinType2    38\n",
              "dtype: int64"
            ]
          },
          "metadata": {},
          "execution_count": 258
        }
      ]
    },
    {
      "cell_type": "code",
      "source": [
        "df['BsmtQual'].unique()"
      ],
      "metadata": {
        "colab": {
          "base_uri": "https://localhost:8080/"
        },
        "id": "BMRcZbZc6eFh",
        "outputId": "35206446-8666-402d-f5e6-8e159cf78207"
      },
      "execution_count": 259,
      "outputs": [
        {
          "output_type": "execute_result",
          "data": {
            "text/plain": [
              "array(['Gd', 'TA', 'Ex', nan, 'Fa'], dtype=object)"
            ]
          },
          "metadata": {},
          "execution_count": 259
        }
      ]
    },
    {
      "cell_type": "markdown",
      "source": [
        "It's understandable to impute null values in all the basement related columns with \"NA\" as not all houses are equipped with a basement."
      ],
      "metadata": {
        "id": "jPIOkpV36odI"
      }
    },
    {
      "cell_type": "code",
      "source": [
        "for i in basement_cols:\n",
        "  df[i].fillna('NA', inplace = True)\n",
        "\n",
        "df[basement_cols].isna().sum()"
      ],
      "metadata": {
        "id": "oFTnVvY0GfUv",
        "colab": {
          "base_uri": "https://localhost:8080/"
        },
        "outputId": "b9795c73-0a11-49b8-bf14-a9f4ac0adc10"
      },
      "execution_count": 260,
      "outputs": [
        {
          "output_type": "execute_result",
          "data": {
            "text/plain": [
              "BsmtQual        0\n",
              "BsmtCond        0\n",
              "BsmtExposure    0\n",
              "BsmtFinType1    0\n",
              "BsmtFinType2    0\n",
              "dtype: int64"
            ]
          },
          "metadata": {},
          "execution_count": 260
        }
      ]
    },
    {
      "cell_type": "code",
      "source": [
        "df['Electrical'].value_counts()"
      ],
      "metadata": {
        "id": "0fh82oSwHPW-",
        "colab": {
          "base_uri": "https://localhost:8080/"
        },
        "outputId": "28b446d6-68ac-499c-994c-e98312ba6c64"
      },
      "execution_count": 261,
      "outputs": [
        {
          "output_type": "execute_result",
          "data": {
            "text/plain": [
              "SBrkr    1334\n",
              "FuseA      94\n",
              "FuseF      27\n",
              "FuseP       3\n",
              "Mix         1\n",
              "Name: Electrical, dtype: int64"
            ]
          },
          "metadata": {},
          "execution_count": 261
        }
      ]
    },
    {
      "cell_type": "markdown",
      "source": [
        "There is only 1 null value in the column."
      ],
      "metadata": {
        "id": "sJj2TOAV66Co"
      }
    },
    {
      "cell_type": "code",
      "source": [
        "df['Electrical'].fillna('SBrkr', inplace = True)\n",
        "df['Electrical'].isna().sum()"
      ],
      "metadata": {
        "id": "ppKTI2UDHzS_",
        "colab": {
          "base_uri": "https://localhost:8080/"
        },
        "outputId": "bf7bb604-bfa4-424a-8381-9cbc9ad79b1b"
      },
      "execution_count": 262,
      "outputs": [
        {
          "output_type": "execute_result",
          "data": {
            "text/plain": [
              "0"
            ]
          },
          "metadata": {},
          "execution_count": 262
        }
      ]
    },
    {
      "cell_type": "code",
      "source": [
        "df['FireplaceQu'].value_counts()"
      ],
      "metadata": {
        "id": "RdLD4MtTILbS",
        "colab": {
          "base_uri": "https://localhost:8080/"
        },
        "outputId": "eb9dbba8-4330-4208-c12b-42ae497afe26"
      },
      "execution_count": 263,
      "outputs": [
        {
          "output_type": "execute_result",
          "data": {
            "text/plain": [
              "Gd    380\n",
              "TA    313\n",
              "Fa     33\n",
              "Ex     24\n",
              "Po     20\n",
              "Name: FireplaceQu, dtype: int64"
            ]
          },
          "metadata": {},
          "execution_count": 263
        }
      ]
    },
    {
      "cell_type": "code",
      "source": [
        "df['FireplaceQu'].unique()"
      ],
      "metadata": {
        "colab": {
          "base_uri": "https://localhost:8080/"
        },
        "id": "nGhphmGQ7BHX",
        "outputId": "1f772269-7d45-4675-912c-d191507a40f8"
      },
      "execution_count": 264,
      "outputs": [
        {
          "output_type": "execute_result",
          "data": {
            "text/plain": [
              "array([nan, 'TA', 'Gd', 'Fa', 'Ex', 'Po'], dtype=object)"
            ]
          },
          "metadata": {},
          "execution_count": 264
        }
      ]
    },
    {
      "cell_type": "markdown",
      "source": [
        "As with the basement column, not all houses are equipped with a fireplace, hence, it's understandable to assume that the null values mean \"NA\"."
      ],
      "metadata": {
        "id": "P-quUty-7EQw"
      }
    },
    {
      "cell_type": "code",
      "source": [
        "df['FireplaceQu'].fillna('NA', inplace = True)\n",
        "df['FireplaceQu'].isna().sum()"
      ],
      "metadata": {
        "id": "uvFwPB9hIi7V",
        "colab": {
          "base_uri": "https://localhost:8080/"
        },
        "outputId": "57b1e9da-c5fb-4a15-8f8f-abe42cf76c95"
      },
      "execution_count": 265,
      "outputs": [
        {
          "output_type": "execute_result",
          "data": {
            "text/plain": [
              "0"
            ]
          },
          "metadata": {},
          "execution_count": 265
        }
      ]
    },
    {
      "cell_type": "code",
      "source": [
        "garage_cols = ['GarageType','GarageFinish', 'GarageQual', 'GarageCond']\n",
        "df[garage_cols].isna().sum()"
      ],
      "metadata": {
        "id": "gC8dHZJ5Ip-B",
        "colab": {
          "base_uri": "https://localhost:8080/"
        },
        "outputId": "53a93fce-9618-4e59-d11f-a89df428d46c"
      },
      "execution_count": 266,
      "outputs": [
        {
          "output_type": "execute_result",
          "data": {
            "text/plain": [
              "GarageType      81\n",
              "GarageFinish    81\n",
              "GarageQual      81\n",
              "GarageCond      81\n",
              "dtype: int64"
            ]
          },
          "metadata": {},
          "execution_count": 266
        }
      ]
    },
    {
      "cell_type": "markdown",
      "source": [
        "Not all houses are also equipped with a garage, hence, they can be filled with \"NA\"."
      ],
      "metadata": {
        "id": "Hg58KMI17Oea"
      }
    },
    {
      "cell_type": "code",
      "source": [
        "for i in garage_cols:\n",
        "  df[i].fillna('NA', inplace = True)\n",
        "\n",
        "df[garage_cols].isna().sum()"
      ],
      "metadata": {
        "id": "3IlaIO0eI2J5",
        "colab": {
          "base_uri": "https://localhost:8080/"
        },
        "outputId": "bb116492-fd70-4fec-82cb-d7564f5b52ba"
      },
      "execution_count": 267,
      "outputs": [
        {
          "output_type": "execute_result",
          "data": {
            "text/plain": [
              "GarageType      0\n",
              "GarageFinish    0\n",
              "GarageQual      0\n",
              "GarageCond      0\n",
              "dtype: int64"
            ]
          },
          "metadata": {},
          "execution_count": 267
        }
      ]
    },
    {
      "cell_type": "code",
      "source": [
        "df['GarageYrBlt'].dtype"
      ],
      "metadata": {
        "id": "cecxp3H9JGsh",
        "colab": {
          "base_uri": "https://localhost:8080/"
        },
        "outputId": "63387ee9-1bd2-4c2a-fd68-0f4af9454a00"
      },
      "execution_count": 268,
      "outputs": [
        {
          "output_type": "execute_result",
          "data": {
            "text/plain": [
              "dtype('float64')"
            ]
          },
          "metadata": {},
          "execution_count": 268
        }
      ]
    },
    {
      "cell_type": "code",
      "source": [
        "ax = sns.distplot(df['GarageYrBlt'])\n",
        "\n",
        "ax.axvline(df['GarageYrBlt'].mean(), color = 'red', ls = '--')\n",
        "ax.axvline(df['GarageYrBlt'].median(), color = 'green')\n",
        "\n",
        "plt.show()\n"
      ],
      "metadata": {
        "id": "7I2c8jw3JOFb",
        "colab": {
          "base_uri": "https://localhost:8080/",
          "height": 334
        },
        "outputId": "8a59732f-dcc7-481a-dbac-7d5e0122293d"
      },
      "execution_count": 269,
      "outputs": [
        {
          "output_type": "stream",
          "name": "stderr",
          "text": [
            "/usr/local/lib/python3.7/dist-packages/seaborn/distributions.py:2619: FutureWarning: `distplot` is a deprecated function and will be removed in a future version. Please adapt your code to use either `displot` (a figure-level function with similar flexibility) or `histplot` (an axes-level function for histograms).\n",
            "  warnings.warn(msg, FutureWarning)\n"
          ]
        },
        {
          "output_type": "display_data",
          "data": {
            "text/plain": [
              "<Figure size 432x288 with 1 Axes>"
            ],
            "image/png": "[encoded data removed]"
          },
          "metadata": {
            "needs_background": "light"
          }
        }
      ]
    },
    {
      "cell_type": "markdown",
      "source": [
        "Data is skewed, which is why median will be used for imputation."
      ],
      "metadata": {
        "id": "jVxrxIJ47aid"
      }
    },
    {
      "cell_type": "code",
      "source": [
        "df['GarageYrBlt'].fillna(df['GarageYrBlt'].median(), inplace = True)\n",
        "df['GarageYrBlt'].isna().sum()"
      ],
      "metadata": {
        "id": "fHuS8ItWJanB",
        "colab": {
          "base_uri": "https://localhost:8080/"
        },
        "outputId": "9e3da65b-dddb-4b79-cc7f-30b25c9ce8b2"
      },
      "execution_count": 270,
      "outputs": [
        {
          "output_type": "execute_result",
          "data": {
            "text/plain": [
              "0"
            ]
          },
          "metadata": {},
          "execution_count": 270
        }
      ]
    },
    {
      "cell_type": "code",
      "source": [
        "df.columns[df.isnull().any()]"
      ],
      "metadata": {
        "id": "2cMDIdJEJhDt",
        "colab": {
          "base_uri": "https://localhost:8080/"
        },
        "outputId": "bc3c4676-d10d-462a-aa93-4ea82ebfa365"
      },
      "execution_count": 271,
      "outputs": [
        {
          "output_type": "execute_result",
          "data": {
            "text/plain": [
              "Index([], dtype='object')"
            ]
          },
          "metadata": {},
          "execution_count": 271
        }
      ]
    },
    {
      "cell_type": "code",
      "source": [
        "categorical_df = list(df.select_dtypes(include = [object]).columns)\n",
        "numerical_df = list(df.drop(categorical_df, axis = 1).columns)\n",
        "\n",
        "print(categorical_df, '\\n')\n",
        "print(numerical_df)\n"
      ],
      "metadata": {
        "id": "V7IkF9MNJv3p",
        "colab": {
          "base_uri": "https://localhost:8080/"
        },
        "outputId": "7675c6d1-b355-4a4f-ce76-62eb407ad597"
      },
      "execution_count": 272,
      "outputs": [
        {
          "output_type": "stream",
          "name": "stdout",
          "text": [
            "['MSZoning', 'Street', 'LotShape', 'LandContour', 'Utilities', 'LotConfig', 'LandSlope', 'Neighborhood', 'Condition1', 'Condition2', 'BldgType', 'HouseStyle', 'RoofStyle', 'RoofMatl', 'Exterior1st', 'Exterior2nd', 'MasVnrType', 'ExterQual', 'ExterCond', 'Foundation', 'BsmtQual', 'BsmtCond', 'BsmtExposure', 'BsmtFinType1', 'BsmtFinType2', 'Heating', 'HeatingQC', 'CentralAir', 'Electrical', 'KitchenQual', 'Functional', 'FireplaceQu', 'GarageType', 'GarageFinish', 'GarageQual', 'GarageCond', 'PavedDrive', 'SaleType', 'SaleCondition'] \n",
            "\n",
            "['Id', 'MSSubClass', 'LotFrontage', 'LotArea', 'OverallQual', 'OverallCond', 'YearBuilt', 'YearRemodAdd', 'MasVnrArea', 'BsmtFinSF1', 'BsmtFinSF2', 'BsmtUnfSF', 'TotalBsmtSF', '1stFlrSF', '2ndFlrSF', 'LowQualFinSF', 'GrLivArea', 'BsmtFullBath', 'BsmtHalfBath', 'FullBath', 'HalfBath', 'BedroomAbvGr', 'KitchenAbvGr', 'TotRmsAbvGrd', 'Fireplaces', 'GarageYrBlt', 'GarageCars', 'GarageArea', 'WoodDeckSF', 'OpenPorchSF', 'EnclosedPorch', '3SsnPorch', 'ScreenPorch', 'PoolArea', 'MiscVal', 'MoSold', 'YrSold', 'SalePrice']\n"
          ]
        }
      ]
    },
    {
      "cell_type": "code",
      "source": [
        "num_corr = df[numerical_df].corr()\n",
        "\n",
        "num_corr[(num_corr < 0.3) & (num_corr > -0.3)] = 0\n",
        "plt.figure(figsize = (20, 20))\n",
        "\n",
        "sns.heatmap(num_corr, vmax = 1.0, vmin = -1.0, linewidths = 0.1, annot = True)\n",
        "\n",
        "plt.show()"
      ],
      "metadata": {
        "id": "EJdrxJ0AMPoS",
        "colab": {
          "base_uri": "https://localhost:8080/",
          "height": 1000
        },
        "outputId": "458d0dbd-520b-4988-be11-905f96a01d73"
      },
      "execution_count": 273,
      "outputs": [
        {
          "output_type": "display_data",
          "data": {
            "text/plain": [
              "<Figure size 1440x1440 with 2 Axes>"
            ],
            "image/png": "[encoded data removed]"
          },
          "metadata": {
            "needs_background": "light"
          }
        }
      ]
    },
    {
      "cell_type": "code",
      "source": [
        "df.corr()['SalePrice'].sort_values(ascending = False)[1:]"
      ],
      "metadata": {
        "id": "TDkxwLxeM-Jp",
        "colab": {
          "base_uri": "https://localhost:8080/"
        },
        "outputId": "9e8e4a66-ee4b-445c-8080-76307dc6d206"
      },
      "execution_count": 274,
      "outputs": [
        {
          "output_type": "execute_result",
          "data": {
            "text/plain": [
              "OverallQual      0.79\n",
              "GrLivArea        0.71\n",
              "GarageCars       0.64\n",
              "GarageArea       0.62\n",
              "TotalBsmtSF      0.61\n",
              "1stFlrSF         0.61\n",
              "FullBath         0.56\n",
              "TotRmsAbvGrd     0.53\n",
              "YearBuilt        0.52\n",
              "YearRemodAdd     0.51\n",
              "MasVnrArea       0.47\n",
              "Fireplaces       0.47\n",
              "GarageYrBlt      0.47\n",
              "BsmtFinSF1       0.39\n",
              "LotFrontage      0.33\n",
              "WoodDeckSF       0.32\n",
              "2ndFlrSF         0.32\n",
              "OpenPorchSF      0.32\n",
              "HalfBath         0.28\n",
              "LotArea          0.26\n",
              "BsmtFullBath     0.23\n",
              "BsmtUnfSF        0.21\n",
              "BedroomAbvGr     0.17\n",
              "ScreenPorch      0.11\n",
              "PoolArea         0.09\n",
              "MoSold           0.05\n",
              "3SsnPorch        0.04\n",
              "BsmtFinSF2      -0.01\n",
              "BsmtHalfBath    -0.02\n",
              "MiscVal         -0.02\n",
              "Id              -0.02\n",
              "LowQualFinSF    -0.03\n",
              "YrSold          -0.03\n",
              "OverallCond     -0.08\n",
              "MSSubClass      -0.08\n",
              "EnclosedPorch   -0.13\n",
              "KitchenAbvGr    -0.14\n",
              "Name: SalePrice, dtype: float64"
            ]
          },
          "metadata": {},
          "execution_count": 274
        }
      ]
    },
    {
      "cell_type": "markdown",
      "source": [
        "Features that have a correlation coefficient that's greater than 0.50 are considered."
      ],
      "metadata": {
        "id": "imdtFKVb7ipl"
      }
    },
    {
      "cell_type": "markdown",
      "source": [
        "# Categorical Features Encoding"
      ],
      "metadata": {
        "id": "BtugNOG576Th"
      }
    },
    {
      "cell_type": "code",
      "source": [
        "le = LabelEncoder()\n",
        "\n",
        "for category in categorical_df:\n",
        "  df[category] = le.fit_transform(df[category].astype(str))\n",
        "\n",
        "df.info()"
      ],
      "metadata": {
        "id": "JzqJ4HfuPjS1",
        "colab": {
          "base_uri": "https://localhost:8080/"
        },
        "outputId": "60c33676-2aca-4421-a5e6-65c9d22b7dfc"
      },
      "execution_count": 275,
      "outputs": [
        {
          "output_type": "stream",
          "name": "stdout",
          "text": [
            "<class 'pandas.core.frame.DataFrame'>\n",
            "RangeIndex: 1460 entries, 0 to 1459\n",
            "Data columns (total 77 columns):\n",
            " #   Column         Non-Null Count  Dtype  \n",
            "---  ------         --------------  -----  \n",
            " 0   Id             1460 non-null   int64  \n",
            " 1   MSSubClass     1460 non-null   int64  \n",
            " 2   MSZoning       1460 non-null   int64  \n",
            " 3   LotFrontage    1460 non-null   float64\n",
            " 4   LotArea        1460 non-null   int64  \n",
            " 5   Street         1460 non-null   int64  \n",
            " 6   LotShape       1460 non-null   int64  \n",
            " 7   LandContour    1460 non-null   int64  \n",
            " 8   Utilities      1460 non-null   int64  \n",
            " 9   LotConfig      1460 non-null   int64  \n",
            " 10  LandSlope      1460 non-null   int64  \n",
            " 11  Neighborhood   1460 non-null   int64  \n",
            " 12  Condition1     1460 non-null   int64  \n",
            " 13  Condition2     1460 non-null   int64  \n",
            " 14  BldgType       1460 non-null   int64  \n",
            " 15  HouseStyle     1460 non-null   int64  \n",
            " 16  OverallQual    1460 non-null   int64  \n",
            " 17  OverallCond    1460 non-null   int64  \n",
            " 18  YearBuilt      1460 non-null   int64  \n",
            " 19  YearRemodAdd   1460 non-null   int64  \n",
            " 20  RoofStyle      1460 non-null   int64  \n",
            " 21  RoofMatl       1460 non-null   int64  \n",
            " 22  Exterior1st    1460 non-null   int64  \n",
            " 23  Exterior2nd    1460 non-null   int64  \n",
            " 24  MasVnrType     1460 non-null   int64  \n",
            " 25  MasVnrArea     1460 non-null   float64\n",
            " 26  ExterQual      1460 non-null   int64  \n",
            " 27  ExterCond      1460 non-null   int64  \n",
            " 28  Foundation     1460 non-null   int64  \n",
            " 29  BsmtQual       1460 non-null   int64  \n",
            " 30  BsmtCond       1460 non-null   int64  \n",
            " 31  BsmtExposure   1460 non-null   int64  \n",
            " 32  BsmtFinType1   1460 non-null   int64  \n",
            " 33  BsmtFinSF1     1460 non-null   int64  \n",
            " 34  BsmtFinType2   1460 non-null   int64  \n",
            " 35  BsmtFinSF2     1460 non-null   int64  \n",
            " 36  BsmtUnfSF      1460 non-null   int64  \n",
            " 37  TotalBsmtSF    1460 non-null   int64  \n",
            " 38  Heating        1460 non-null   int64  \n",
            " 39  HeatingQC      1460 non-null   int64  \n",
            " 40  CentralAir     1460 non-null   int64  \n",
            " 41  Electrical     1460 non-null   int64  \n",
            " 42  1stFlrSF       1460 non-null   int64  \n",
            " 43  2ndFlrSF       1460 non-null   int64  \n",
            " 44  LowQualFinSF   1460 non-null   int64  \n",
            " 45  GrLivArea      1460 non-null   int64  \n",
            " 46  BsmtFullBath   1460 non-null   int64  \n",
            " 47  BsmtHalfBath   1460 non-null   int64  \n",
            " 48  FullBath       1460 non-null   int64  \n",
            " 49  HalfBath       1460 non-null   int64  \n",
            " 50  BedroomAbvGr   1460 non-null   int64  \n",
            " 51  KitchenAbvGr   1460 non-null   int64  \n",
            " 52  KitchenQual    1460 non-null   int64  \n",
            " 53  TotRmsAbvGrd   1460 non-null   int64  \n",
            " 54  Functional     1460 non-null   int64  \n",
            " 55  Fireplaces     1460 non-null   int64  \n",
            " 56  FireplaceQu    1460 non-null   int64  \n",
            " 57  GarageType     1460 non-null   int64  \n",
            " 58  GarageYrBlt    1460 non-null   float64\n",
            " 59  GarageFinish   1460 non-null   int64  \n",
            " 60  GarageCars     1460 non-null   int64  \n",
            " 61  GarageArea     1460 non-null   int64  \n",
            " 62  GarageQual     1460 non-null   int64  \n",
            " 63  GarageCond     1460 non-null   int64  \n",
            " 64  PavedDrive     1460 non-null   int64  \n",
            " 65  WoodDeckSF     1460 non-null   int64  \n",
            " 66  OpenPorchSF    1460 non-null   int64  \n",
            " 67  EnclosedPorch  1460 non-null   int64  \n",
            " 68  3SsnPorch      1460 non-null   int64  \n",
            " 69  ScreenPorch    1460 non-null   int64  \n",
            " 70  PoolArea       1460 non-null   int64  \n",
            " 71  MiscVal        1460 non-null   int64  \n",
            " 72  MoSold         1460 non-null   int64  \n",
            " 73  YrSold         1460 non-null   int64  \n",
            " 74  SaleType       1460 non-null   int64  \n",
            " 75  SaleCondition  1460 non-null   int64  \n",
            " 76  SalePrice      1460 non-null   int64  \n",
            "dtypes: float64(3), int64(74)\n",
            "memory usage: 878.4 KB\n"
          ]
        }
      ]
    },
    {
      "cell_type": "markdown",
      "source": [
        "Categorical features have been converted to numerical, hence, dtypes that are \"objects\" have been eliminated completely."
      ],
      "metadata": {
        "id": "jrGuYp5a7vl1"
      }
    },
    {
      "cell_type": "markdown",
      "source": [
        "# Scaling Numerical Features"
      ],
      "metadata": {
        "id": "fuGammcG79-A"
      }
    },
    {
      "cell_type": "code",
      "source": [
        "mms = MinMaxScaler()\n",
        "\n",
        "X = df.drop(['Id', 'SalePrice'], axis = 1)\n",
        "scaled_X = mms.fit_transform(X)\n",
        "\n",
        "y = df['SalePrice']"
      ],
      "metadata": {
        "id": "fa0_Q5-_P56I"
      },
      "execution_count": 276,
      "outputs": []
    },
    {
      "cell_type": "code",
      "source": [
        "X_train, X_test, y_train, y_test = train_test_split(scaled_X, y, test_size = 0.20, random_state = 26)"
      ],
      "metadata": {
        "id": "j3KlVBc7QXF5"
      },
      "execution_count": 277,
      "outputs": []
    },
    {
      "cell_type": "markdown",
      "source": [
        "# Model Training"
      ],
      "metadata": {
        "id": "gfyEWYOM8Iur"
      }
    },
    {
      "cell_type": "code",
      "source": [
        "XGB = XGBRegressor()\n",
        "\n",
        "XGB.fit(X_train, y_train)\n",
        "\n",
        "y_pred = XGB.predict(X_test)"
      ],
      "metadata": {
        "id": "I1iuB0qYQjkz",
        "colab": {
          "base_uri": "https://localhost:8080/"
        },
        "outputId": "b0098a8c-2121-4b50-9662-13f0b31fb373"
      },
      "execution_count": 278,
      "outputs": [
        {
          "output_type": "stream",
          "name": "stdout",
          "text": [
            "[14:06:09] WARNING: /workspace/src/objective/regression_obj.cu:152: reg:linear is now deprecated in favor of reg:squarederror.\n"
          ]
        }
      ]
    },
    {
      "cell_type": "markdown",
      "source": [
        "# Model Evaluation"
      ],
      "metadata": {
        "id": "cxHe5Q9J8LE4"
      }
    },
    {
      "cell_type": "code",
      "source": [
        "print('XGBOOST TRAIN SCORE:', XGB.score(X_train, y_train))\n",
        "print('XGBOOST TEST SCORE:', XGB.score(X_test, y_test))"
      ],
      "metadata": {
        "id": "vs7i0jAGQ4KL",
        "colab": {
          "base_uri": "https://localhost:8080/"
        },
        "outputId": "de911efb-6cad-4168-efc5-2440ed4d390f"
      },
      "execution_count": 279,
      "outputs": [
        {
          "output_type": "stream",
          "name": "stdout",
          "text": [
            "XGBOOST TRAIN SCORE: 0.9691768626138606\n",
            "XGBOOST TEST SCORE: 0.8429322288200407\n"
          ]
        }
      ]
    }
  ]
}